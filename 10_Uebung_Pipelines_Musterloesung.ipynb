{
 "cells": [
  {
   "cell_type": "markdown",
   "id": "4a530001-df16-4477-94c4-5c303c93de4f",
   "metadata": {
    "tags": []
   },
   "source": [
    "# Praxisübung: Pipelines\n",
    "In dieser Übung sollen Sie für den Titanic Datensatz mittels Pipelines und ColumnTransformers die Datenvorverarbeitung und das Modelltraining inkl. Hyperparameteroptimierung durchführen. Starten Sie mit folgendem Code:"
   ]
  },
  {
   "cell_type": "code",
   "execution_count": 1,
   "id": "e683ba36-4a9d-4a94-b33a-8eccb0a44ba2",
   "metadata": {
    "tags": []
   },
   "outputs": [],
   "source": [
    "import pandas as pd\n",
    "from sklearn.model_selection import train_test_split\n",
    "\n",
    "df = pd.read_csv(\"Daten/titanic.csv\")\n",
    "\n",
    "# Label: Überlebt ja/nein\n",
    "y = df.pop(\"Survived\")\n",
    "\n",
    "# Split in Trainings- und Testset\n",
    "X_train, X_test, y_train, y_test = train_test_split(df, y, test_size=0.2, random_state=42)"
   ]
  },
  {
   "cell_type": "markdown",
   "id": "ff537c45-3dd2-40e9-9b7f-e5a1161772da",
   "metadata": {},
   "source": [
    "## ✏ Aufgabe\n",
    "Benutzen Sie ColumnTransformers und eine Pipeline, um die folgenden Schritte durchzuführen:\n",
    "1. One-hot encoding der Spalten [`Sex`, `Embarked`]\n",
    "2. nan's der Spalte age durch Mittelwert ersetzen\n",
    "3. Skalieren des Features `Age`\n",
    "4. Entfernen der Spalten [`PassengerId`, `Name`,`Ticket`, `Cabin`]\n",
    "5. Trainieren eines Entscheidungsbaums. Führen Sie dafür eine Hyperparametersuche nach der besten Kombination aus Baumtiefe und min_samples_split mit Kreuzvalidierung durch.\n",
    "6. Schließen Sie in die Hyperparametersuche auch noch zwei Strategien zum nan-Auffüllen mit ein: `mean` und `median` \n",
    "\n",
    "Werten Sie anschließend die Accuracy sowohl auf den Trainings- als auch auf den Testdaten aus."
   ]
  },
  {
   "cell_type": "code",
   "execution_count": 2,
   "id": "8ac66cd2-a1d3-4bd0-b0cd-9907aee89339",
   "metadata": {
    "tags": []
   },
   "outputs": [
    {
     "name": "stdout",
     "output_type": "stream",
     "text": [
      "Accuracy Trainingsdaten: 0.8342696629213483\n",
      "Accuracy Testdaten: 0.7988826815642458\n"
     ]
    }
   ],
   "source": [
    "from sklearn.pipeline import Pipeline, make_pipeline\n",
    "from sklearn.compose import ColumnTransformer, make_column_transformer\n",
    "from sklearn.model_selection import GridSearchCV\n",
    "from sklearn.preprocessing import StandardScaler, OneHotEncoder\n",
    "from sklearn.impute import SimpleImputer\n",
    "from sklearn.tree import DecisionTreeClassifier\n",
    "\n",
    "# Pipeline soll folgendes machen:\n",
    "# 1. One-hot encoding der Spalten [\"Sex\", \"Embarked\"]\n",
    "# 2. nan's der Spalte age durch Mittelwert ersetzen\n",
    "# 3. Skalieren des Features \"Age\"\n",
    "# 4. Entfernen der Spalten [\"PassengerId\", \"Name\",\"Ticket\", \"Cabin\"]\n",
    "# 5. Hyperparametersuche nach bester Kombination aus Baumtiefe und min_samples_split sowie \"mean\" und \"median\" als Strategie beim Ersetzen von nan \n",
    "\n",
    "column_trans = ColumnTransformer([(\"spalten\", \"drop\", [\"PassengerId\", \"Name\", \"Ticket\", \"Cabin\"]),\n",
    "                                   (\"nans\", make_pipeline(SimpleImputer(strategy=\"mean\"), StandardScaler()),[\"Age\"]),\n",
    "                                   (\"onehot\", OneHotEncoder(handle_unknown=\"ignore\"), [\"Sex\", \"Embarked\"])\n",
    "                                  ], remainder=\"passthrough\")\n",
    "\n",
    "pipe = Pipeline([(\"vv\", column_trans), \n",
    "                 (\"dt\", DecisionTreeClassifier())])\n",
    "\n",
    "param_grid = {\"vv__nans__simpleimputer__strategy\": [\"mean\", \"median\"], \n",
    "              \"dt__max_depth\": range(1,5), \n",
    "              \"dt__min_samples_split\": [2,4,8]}\n",
    "\n",
    "gs = GridSearchCV(pipe, param_grid=param_grid, cv=3)\n",
    "gs.fit(X_train,y_train)\n",
    "\n",
    "print(f\"Accuracy Trainingsdaten: {gs.score(X_train, y_train)}\")\n",
    "print(f\"Accuracy Testdaten: {gs.score(X_test, y_test)}\")"
   ]
  },
  {
   "cell_type": "code",
   "execution_count": null,
   "id": "0f8f9d71-2d70-47bd-8150-3fddba70a339",
   "metadata": {},
   "outputs": [],
   "source": []
  }
 ],
 "metadata": {
  "kernelspec": {
   "display_name": "Python 3 (ipykernel)",
   "language": "python",
   "name": "python3"
  },
  "language_info": {
   "codemirror_mode": {
    "name": "ipython",
    "version": 3
   },
   "file_extension": ".py",
   "mimetype": "text/x-python",
   "name": "python",
   "nbconvert_exporter": "python",
   "pygments_lexer": "ipython3",
   "version": "3.9.18"
  }
 },
 "nbformat": 4,
 "nbformat_minor": 5
}
