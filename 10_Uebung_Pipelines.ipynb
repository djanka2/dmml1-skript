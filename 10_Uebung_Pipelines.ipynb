{
 "cells": [
  {
   "cell_type": "markdown",
   "id": "4a530001-df16-4477-94c4-5c303c93de4f",
   "metadata": {
    "tags": []
   },
   "source": [
    "# Praxisübung: Pipelines\n",
    "In dieser Übung sollen Sie für den Titanic Datensatz mittels Pipelines und ColumnTransformers die Datenvorverarbeitung und das Modelltraining inkl. Hyperparameteroptimierung durchführen. Starten Sie mit folgendem Code:"
   ]
  },
  {
   "cell_type": "code",
   "execution_count": 67,
   "id": "e683ba36-4a9d-4a94-b33a-8eccb0a44ba2",
   "metadata": {
    "tags": []
   },
   "outputs": [],
   "source": [
    "import pandas as pd\n",
    "from sklearn.model_selection import train_test_split\n",
    "\n",
    "df = pd.read_csv(\"Daten/titanic.csv\")\n",
    "\n",
    "# Label: Überlebt ja/nein\n",
    "y = df.pop(\"Survived\")\n",
    "\n",
    "# Split in Trainings- und Testset\n",
    "X_train, X_test, y_train, y_test = train_test_split(df, y, test_size=0.2, random_state=42)"
   ]
  },
  {
   "cell_type": "markdown",
   "id": "ff537c45-3dd2-40e9-9b7f-e5a1161772da",
   "metadata": {},
   "source": [
    "## ✏ Aufgabe\n",
    "Benutzen Sie ColumnTransformers und eine Pipeline, um die folgenden Schritte durchzuführen:\n",
    "1. One-hot encoding der Spalten [`Sex`, `Embarked`]\n",
    "2. nan's der Spalte age durch Mittelwert ersetzen\n",
    "3. Skalieren des Features `Age`\n",
    "4. Entfernen der Spalten [`PassengerId`, `Name`,`Ticket`, `Cabin`]\n",
    "5. Trainieren eines Entscheidungsbaums. Führen Sie dafür eine Hyperparametersuche nach der besten Kombination aus Baumtiefe und min_samples_split mit Kreuzvalidierung durch.\n",
    "6. Schließen Sie in die Hyperparametersuche auch noch zwei Strategien zum nan-Auffüllen mit ein: `mean` und `median` \n",
    "\n",
    "Werten Sie anschließend die Accuracy sowohl auf den Trainings- als auch auf den Testdaten aus."
   ]
  },
  {
   "cell_type": "code",
   "execution_count": null,
   "id": "8cecd4d8-b2b0-464e-9e74-17d42c7a8797",
   "metadata": {},
   "outputs": [],
   "source": []
  }
 ],
 "metadata": {
  "kernelspec": {
   "display_name": "Python 3 (ipykernel)",
   "language": "python",
   "name": "python3"
  },
  "language_info": {
   "codemirror_mode": {
    "name": "ipython",
    "version": 3
   },
   "file_extension": ".py",
   "mimetype": "text/x-python",
   "name": "python",
   "nbconvert_exporter": "python",
   "pygments_lexer": "ipython3",
   "version": "3.9.18"
  }
 },
 "nbformat": 4,
 "nbformat_minor": 5
}
