{
 "cells": [
  {
   "cell_type": "markdown",
   "metadata": {},
   "source": [
    "# Übungen\n",
    "\n",
    "Gegeben sind ein Datenset zusammen mit den euklidischen Distanzen zwischen allen Punkten:\n",
    "\n",
    "| Index $i$ | $x_1^{(i)}$ | $x_2^{(i)}$ |\n",
    "|---|---|---|\n",
    "| 1 | 2 | 8 |\n",
    "| 2 | 2 | 5 |\n",
    "| 3 | 1 | 2 |\n",
    "| 4 | 5 | 8 |\n",
    "| 5 | 7 | 3 |\n",
    "| 6 | 6 | 4 |\n",
    "| 7 | 8 | 4 |\n",
    "| 8 | 4 | 7 |\n",
    "\n",
    "![](./bilder/clustering.png)\n",
    "\n",
    "|  | $x^{(1)}$ | $x^{(2)}$ | $x^{(3)}$ | $x^{(4)}$ | $x^{(5)}$ | $x^{(6)}$ | $x^{(7)}$ | $x^{(8)}$ |\n",
    "|---:|---:|---:|---:|---:|---:|---:|---:|---:|\n",
    "| $x^{(1)}$\t|0\t|3.0000\t|6.0827\t|3.0000\t|7.0710\t|5.6568\t|7.2111\t|2.2360 |\n",
    "| $x^{(2)}$\t|3.0000\t|0\t|3.1622\t|4.2426\t|5.3851\t|4.1231\t|6.0827\t|2.8284 |\n",
    "| $x^{(3)}$\t|6.0827\t|3.1622\t|0\t|7.2111\t|6.0827\t|5.3851\t|7.2801\t|5.8309 |\n",
    "| $x^{(4)}$\t|3.0000\t|4.2426\t|7.2111\t|0\t|5.3851\t|4.1231\t|5.0000\t|1.4142 |\n",
    "| $x^{(5)}$\t|7.0710\t|5.3851\t|6.0827\t|5.3851\t|0\t|1.4142\t|1.4142\t|5.0000 |\n",
    "| $x^{(6)}$\t|5.6568\t|4.1231\t|5.3851\t|4.1231\t|1.4142\t|0\t|2.0000\t|3.6055|\n",
    "| $x^{(7)}$\t|7.2111\t|6.0827\t|7.2801\t|5.0000\t|1.4142\t|2.0000\t|0 |5.0000 |\n",
    "| $x^{(8)}$\t|2.2360\t|2.8284\t|5.8309\t|1.4142\t|5.0000\t|3.6055\t|5.0000\t|0\n",
    "\n",
    "\n",
    "## ✏ Aufgabe 1\n",
    "Führen Sie (per Hand) ein $k$-means Clustering auf dem Datenset mit $k=3$ aus. Wählen Sie dafür die Punkte $\\mu_1=\\begin{pmatrix}1\\\\2\\end{pmatrix}$, $\\mu_2=\\begin{pmatrix}5\\\\8\\end{pmatrix}$ und $\\mu_3=\\begin{pmatrix}6\\\\4\\end{pmatrix}$ als initiale Clusterzentren.\n",
    "\n",
    "\n",
    "## ✏ Aufgabe 2\n",
    "Gegeben sind die beiden folgenden Clusterungen des Datensets:\n",
    "1. $C_1=\\{4,8\\}$, $C_2=\\{1,2,3\\}$, $C_3=\\{5,6,7\\}$\n",
    "2. $C_1=\\{1,4,8\\}$, $C_2=\\{2,3\\}$, $C_3=\\{5,6,7\\}$\n",
    "   \n",
    "Berechnen Sie den Silhouettenkoeffizient für Datenpunkt 1. Zu welchem Cluster passt der Punkt besser?\n",
    "\n",
    "\n",
    "## ✏ Aufgabe 3\n",
    "Führen Sie unterschiedliche DBSCAN Clusterungen auf dem Datenset mit den folgenden Parametern aus:\n",
    "1. `eps`$=3.1$, `minPts`$=3$\n",
    "2. `eps`$=3.1$, `minPts`$=4$\n",
    "3. `eps`$=2$, `minPts`$=2$\n",
    "\n",
    "\n",
    "## ✏ Aufgabe 4\n",
    "Führen Sie ein hierarchisches Clustering mit der single linkage Methode aus. Das Abbruchkriterium ist $d>2.5$."
   ]
  },
  {
   "cell_type": "markdown",
   "metadata": {},
   "source": []
  }
 ],
 "metadata": {
  "language_info": {
   "name": "python"
  },
  "orig_nbformat": 4
 },
 "nbformat": 4,
 "nbformat_minor": 2
}
