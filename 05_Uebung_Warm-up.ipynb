{
 "cells": [
  {
   "cell_type": "markdown",
   "id": "d909023d-53b0-4f21-a6d3-f821d7dc836a",
   "metadata": {
    "tags": []
   },
   "source": [
    "# Praxisübung: Lineare Regression"
   ]
  },
  {
   "cell_type": "markdown",
   "id": "749e3650-cdb6-41e5-9fc9-22352a1aea94",
   "metadata": {},
   "source": [
    "## Bibliotheken importieren"
   ]
  },
  {
   "cell_type": "code",
   "execution_count": null,
   "id": "3fc4645d-3825-4b7d-ba72-0a3bb73d3aa3",
   "metadata": {},
   "outputs": [],
   "source": [
    "import pandas as pd\n",
    "import numpy as np\n",
    "import matplotlib.pyplot as plt\n",
    "from sklearn import linear_model, metrics\n",
    "from sklearn.model_selection import train_test_split"
   ]
  },
  {
   "cell_type": "markdown",
   "id": "1f988240-244d-43ba-a7b5-d9b0ea088060",
   "metadata": {},
   "source": [
    "## Daten einlesen und anzeigen\n",
    "Wir gehen davon aus, dass sich die Daten in einem Unterverzeichnis namens \"Daten\" befinden. Zum einlesen benutzen wir die `read_csv()` Methode von Pandas."
   ]
  },
  {
   "cell_type": "code",
   "execution_count": null,
   "id": "c99420d1-fc31-49aa-b586-726f9ed7a24f",
   "metadata": {
    "tags": []
   },
   "outputs": [],
   "source": [
    "df = pd.read_csv(\"Daten/advertising.csv\")\n",
    "df"
   ]
  },
  {
   "cell_type": "markdown",
   "id": "878ea699-10b8-435a-a68a-1e6cc32ea832",
   "metadata": {
    "tags": []
   },
   "source": [
    "## Auswahl der Features und der Labels\n",
    "Wir wählen aus dem Dataframe spaltenweise aus, was als Features und was als Label interpretiert werden soll."
   ]
  },
  {
   "cell_type": "code",
   "execution_count": null,
   "id": "b871f34a-05c7-4983-baa7-a593f82be33a",
   "metadata": {},
   "outputs": [],
   "source": [
    "features = [\"TV\", \"Radio\"] # Liste von Features\n",
    "X = df[features]\n",
    "y = df.Sales"
   ]
  },
  {
   "cell_type": "markdown",
   "id": "3a62cc82-bfd6-43c2-b834-3a707b4cef8d",
   "metadata": {},
   "source": [
    "## Training-Test Split\n",
    "Als nächstes teilen wir die Daten in Trainings- und Testdaten. scikit-learn stellt dazu im Untermodul `sklearn.model` die Funktion `train_test_split` bereit. Per default wählt es zuällig 25% der Daten als Testdaten aus. Wird der Parameter `random_state` auf eine feste Zahl gesetzt, wird garantiert, dass der Zufallsgenerator bei jedem Aufruf der Funktion dieselben 25% der Daten auswählt (macht es während der Modellentwicklung oft leichter, Fehler zu vermeiden)."
   ]
  },
  {
   "cell_type": "code",
   "execution_count": null,
   "id": "aee5693d-9c7c-49ac-8b8a-282159afa0d8",
   "metadata": {},
   "outputs": [],
   "source": [
    "X_train, X_test, y_train, y_test = train_test_split(X, y, test_size=0.25, random_state=42)"
   ]
  },
  {
   "cell_type": "markdown",
   "id": "2aa0dde6-7d6a-4b46-a909-93051a35bbfe",
   "metadata": {},
   "source": [
    "## Modelltraining\n",
    "Wir erstellen ein lineares Regressionsmodell. Wie alle Modelle in scikit-learn besitzt es eine `.fit`-Methode, mit der wir das Modell auf den Trainingsdaten trainieren."
   ]
  },
  {
   "cell_type": "code",
   "execution_count": null,
   "id": "4222039d-1322-437f-a744-dd5f5d86e5f5",
   "metadata": {},
   "outputs": [],
   "source": [
    "m = linear_model.LinearRegression()\n",
    "m.fit(X_train, y_train)"
   ]
  },
  {
   "cell_type": "markdown",
   "id": "a53c3aa2-ae3b-413a-96fa-6c8d9c78e310",
   "metadata": {},
   "source": [
    "## Evaluation der Lösung\n",
    "Wir bestimmen den $R^2$-Wert und den (root) mean squared error (RMSE) auf den Trainings- und Testdaten. Dazu bestimmen wir zunächst die Modellvorhersage `y_pred`. Modellvorhersagen in scikit-learn macht man mit der `.predict` Methode, die jedes Modell besitzt. Auf die Parameter $w$ kann man mittels `m.coef_` bzw. `m.intercept` zugreifen."
   ]
  },
  {
   "cell_type": "code",
   "execution_count": null,
   "id": "957fa5a1-3aff-4cf8-ae2b-fbd7289a87f6",
   "metadata": {},
   "outputs": [],
   "source": [
    "# Metriken auf den Trainingsdaten\n",
    "y_pred = m.predict(X_train)\n",
    "print(f\"R^2 Trainingsdaten: {metrics.r2_score(y_train, y_pred)}.\")\n",
    "print(f\"RMSE Trainingsdaten: {metrics.mean_squared_error(y_train, y_pred, squared=False)}.\")\n",
    "\n",
    "# Metriken auf den Testdaten\n",
    "y_pred = m.predict(X_test)\n",
    "print(f\"R^2 Testdaten: {metrics.r2_score(y_test, y_pred)}.\")\n",
    "print(f\"RMSE Testdaten: {metrics.mean_squared_error(y_test, y_pred, squared=False)}.\")\n",
    "\n",
    "# Gelernte Koeffizienten der Modellfunktion:\n",
    "print(f\"w0 = {m.intercept_}\")\n",
    "print(f\"w = {m.coef_}\")"
   ]
  },
  {
   "cell_type": "code",
   "execution_count": null,
   "id": "6fb187c3-201c-4ef5-a594-593850513546",
   "metadata": {},
   "outputs": [],
   "source": []
  },
  {
   "cell_type": "code",
   "execution_count": null,
   "id": "afc2daee-fc8a-462c-b553-cce4b6eac40d",
   "metadata": {},
   "outputs": [],
   "source": []
  },
  {
   "cell_type": "markdown",
   "id": "888e1614-e4c5-49b0-a494-4defd0013133",
   "metadata": {
    "tags": []
   },
   "source": [
    "## ✏ Aufgaben\n",
    "1. Schauen Sie sich den Beispielcode noch einmal an.\n",
    "\n",
    "2. Löschen Sie den Code und führen Sie eine lineare Regression für den Advertising Datensatz durch, bei der Sie alle drei Features `TV`, `Radio` und `Newspaper` verwenden. Führen Sie dazu nacheinander die folgenden Schritte aus:\n",
    "    * Daten einlesen.\n",
    "    * Features und Label auswählen.\n",
    "    * Daten in Test- und Trainingsdaten aufteilen.\n",
    "    * Erstellen und trainieren des Modells.\n",
    "    * Evaluation des Modells. Ist das Modell besser als das Modell mit zwei Features?\n",
    "    \n",
    "3. Visualisieren Sie die Daten als Streuplots. Sie können dafür z.B. die Plot-Funktionalität von Pandas nutzen: https://pandas.pydata.org/docs/reference/api/pandas.DataFrame.plot.html"
   ]
  }
 ],
 "metadata": {
  "kernelspec": {
   "display_name": "Python 3 (ipykernel)",
   "language": "python",
   "name": "python3"
  },
  "language_info": {
   "codemirror_mode": {
    "name": "ipython",
    "version": 3
   },
   "file_extension": ".py",
   "mimetype": "text/x-python",
   "name": "python",
   "nbconvert_exporter": "python",
   "pygments_lexer": "ipython3",
   "version": "3.9.6"
  }
 },
 "nbformat": 4,
 "nbformat_minor": 5
}
