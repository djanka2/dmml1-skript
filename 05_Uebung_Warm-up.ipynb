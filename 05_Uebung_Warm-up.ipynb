{
 "cells": [
  {
   "cell_type": "markdown",
   "id": "d909023d-53b0-4f21-a6d3-f821d7dc836a",
   "metadata": {
    "tags": []
   },
   "source": [
    "# Praxisübung: Lineare Regression"
   ]
  },
  {
   "cell_type": "markdown",
   "id": "749e3650-cdb6-41e5-9fc9-22352a1aea94",
   "metadata": {},
   "source": [
    "## Bibliotheken importieren"
   ]
  },
  {
   "cell_type": "code",
   "execution_count": 19,
   "id": "3fc4645d-3825-4b7d-ba72-0a3bb73d3aa3",
   "metadata": {},
   "outputs": [],
   "source": [
    "import pandas as pd\n",
    "from sklearn import linear_model, metrics\n",
    "from sklearn.model_selection import train_test_split"
   ]
  },
  {
   "cell_type": "markdown",
   "id": "1f988240-244d-43ba-a7b5-d9b0ea088060",
   "metadata": {},
   "source": [
    "## Daten einlesen und anzeigen\n",
    "Wir gehen davon aus, dass sich die Daten in einem Unterverzeichnis namens \"Daten\" befinden. Zum einlesen benutzen wir die `read_csv()` Methode von Pandas."
   ]
  },
  {
   "cell_type": "code",
   "execution_count": 20,
   "id": "c99420d1-fc31-49aa-b586-726f9ed7a24f",
   "metadata": {
    "tags": []
   },
   "outputs": [
    {
     "data": {
      "text/html": [
       "<div>\n",
       "<style scoped>\n",
       "    .dataframe tbody tr th:only-of-type {\n",
       "        vertical-align: middle;\n",
       "    }\n",
       "\n",
       "    .dataframe tbody tr th {\n",
       "        vertical-align: top;\n",
       "    }\n",
       "\n",
       "    .dataframe thead th {\n",
       "        text-align: right;\n",
       "    }\n",
       "</style>\n",
       "<table border=\"1\" class=\"dataframe\">\n",
       "  <thead>\n",
       "    <tr style=\"text-align: right;\">\n",
       "      <th></th>\n",
       "      <th>TV</th>\n",
       "      <th>Radio</th>\n",
       "      <th>Newspaper</th>\n",
       "      <th>Sales</th>\n",
       "    </tr>\n",
       "  </thead>\n",
       "  <tbody>\n",
       "    <tr>\n",
       "      <th>0</th>\n",
       "      <td>230.1</td>\n",
       "      <td>37.8</td>\n",
       "      <td>69.2</td>\n",
       "      <td>22.1</td>\n",
       "    </tr>\n",
       "    <tr>\n",
       "      <th>1</th>\n",
       "      <td>44.5</td>\n",
       "      <td>39.3</td>\n",
       "      <td>45.1</td>\n",
       "      <td>10.4</td>\n",
       "    </tr>\n",
       "    <tr>\n",
       "      <th>2</th>\n",
       "      <td>17.2</td>\n",
       "      <td>45.9</td>\n",
       "      <td>69.3</td>\n",
       "      <td>12.0</td>\n",
       "    </tr>\n",
       "    <tr>\n",
       "      <th>3</th>\n",
       "      <td>151.5</td>\n",
       "      <td>41.3</td>\n",
       "      <td>58.5</td>\n",
       "      <td>16.5</td>\n",
       "    </tr>\n",
       "    <tr>\n",
       "      <th>4</th>\n",
       "      <td>180.8</td>\n",
       "      <td>10.8</td>\n",
       "      <td>58.4</td>\n",
       "      <td>17.9</td>\n",
       "    </tr>\n",
       "    <tr>\n",
       "      <th>...</th>\n",
       "      <td>...</td>\n",
       "      <td>...</td>\n",
       "      <td>...</td>\n",
       "      <td>...</td>\n",
       "    </tr>\n",
       "    <tr>\n",
       "      <th>195</th>\n",
       "      <td>38.2</td>\n",
       "      <td>3.7</td>\n",
       "      <td>13.8</td>\n",
       "      <td>7.6</td>\n",
       "    </tr>\n",
       "    <tr>\n",
       "      <th>196</th>\n",
       "      <td>94.2</td>\n",
       "      <td>4.9</td>\n",
       "      <td>8.1</td>\n",
       "      <td>14.0</td>\n",
       "    </tr>\n",
       "    <tr>\n",
       "      <th>197</th>\n",
       "      <td>177.0</td>\n",
       "      <td>9.3</td>\n",
       "      <td>6.4</td>\n",
       "      <td>14.8</td>\n",
       "    </tr>\n",
       "    <tr>\n",
       "      <th>198</th>\n",
       "      <td>283.6</td>\n",
       "      <td>42.0</td>\n",
       "      <td>66.2</td>\n",
       "      <td>25.5</td>\n",
       "    </tr>\n",
       "    <tr>\n",
       "      <th>199</th>\n",
       "      <td>232.1</td>\n",
       "      <td>8.6</td>\n",
       "      <td>8.7</td>\n",
       "      <td>18.4</td>\n",
       "    </tr>\n",
       "  </tbody>\n",
       "</table>\n",
       "<p>200 rows × 4 columns</p>\n",
       "</div>"
      ],
      "text/plain": [
       "        TV  Radio  Newspaper  Sales\n",
       "0    230.1   37.8       69.2   22.1\n",
       "1     44.5   39.3       45.1   10.4\n",
       "2     17.2   45.9       69.3   12.0\n",
       "3    151.5   41.3       58.5   16.5\n",
       "4    180.8   10.8       58.4   17.9\n",
       "..     ...    ...        ...    ...\n",
       "195   38.2    3.7       13.8    7.6\n",
       "196   94.2    4.9        8.1   14.0\n",
       "197  177.0    9.3        6.4   14.8\n",
       "198  283.6   42.0       66.2   25.5\n",
       "199  232.1    8.6        8.7   18.4\n",
       "\n",
       "[200 rows x 4 columns]"
      ]
     },
     "execution_count": 20,
     "metadata": {},
     "output_type": "execute_result"
    }
   ],
   "source": [
    "df = pd.read_csv(\"Daten/advertising.csv\")\n",
    "df"
   ]
  },
  {
   "cell_type": "markdown",
   "id": "878ea699-10b8-435a-a68a-1e6cc32ea832",
   "metadata": {
    "tags": []
   },
   "source": [
    "## Auswahl der Features und der Labels\n",
    "Wir wählen aus dem Dataframe spaltenweise aus, was als Features und was als Label interpretiert werden soll."
   ]
  },
  {
   "cell_type": "code",
   "execution_count": 21,
   "id": "b871f34a-05c7-4983-baa7-a593f82be33a",
   "metadata": {},
   "outputs": [],
   "source": [
    "features = [\"TV\", \"Radio\"] # Liste von Features\n",
    "X = df[features]\n",
    "y = df.Sales"
   ]
  },
  {
   "cell_type": "markdown",
   "id": "3a62cc82-bfd6-43c2-b834-3a707b4cef8d",
   "metadata": {},
   "source": [
    "## Training-Test Split\n",
    "Als nächstes teilen wir die Daten in Trainings- und Testdaten. scikit-learn stellt dazu im Untermodul `sklearn.model` die Funktion `train_test_split` bereit. Per default wählt es zuällig 25% der Daten als Testdaten aus. Wird der Parameter `random_state` auf eine feste Zahl gesetzt, wird garantiert, dass der Zufallsgenerator bei jedem Aufruf der Funktion dieselben 25% der Daten auswählt (macht es während der Modellentwicklung oft leichter, Fehler zu vermeiden)."
   ]
  },
  {
   "cell_type": "code",
   "execution_count": 22,
   "id": "aee5693d-9c7c-49ac-8b8a-282159afa0d8",
   "metadata": {},
   "outputs": [],
   "source": [
    "X_train, X_test, y_train, y_test = train_test_split(X, y, test_size=0.25, random_state=42)"
   ]
  },
  {
   "cell_type": "markdown",
   "id": "2aa0dde6-7d6a-4b46-a909-93051a35bbfe",
   "metadata": {},
   "source": [
    "## Modelltraining\n",
    "Wir erstellen ein lineares Regressionsmodell. Wie alle Modelle in scikit-learn besitzt es eine `.fit`-Methode, mit der wir das Modell auf den Trainingsdaten trainieren."
   ]
  },
  {
   "cell_type": "code",
   "execution_count": 23,
   "id": "4222039d-1322-437f-a744-dd5f5d86e5f5",
   "metadata": {},
   "outputs": [
    {
     "data": {
      "text/html": [
       "<style>#sk-container-id-4 {color: black;background-color: white;}#sk-container-id-4 pre{padding: 0;}#sk-container-id-4 div.sk-toggleable {background-color: white;}#sk-container-id-4 label.sk-toggleable__label {cursor: pointer;display: block;width: 100%;margin-bottom: 0;padding: 0.3em;box-sizing: border-box;text-align: center;}#sk-container-id-4 label.sk-toggleable__label-arrow:before {content: \"▸\";float: left;margin-right: 0.25em;color: #696969;}#sk-container-id-4 label.sk-toggleable__label-arrow:hover:before {color: black;}#sk-container-id-4 div.sk-estimator:hover label.sk-toggleable__label-arrow:before {color: black;}#sk-container-id-4 div.sk-toggleable__content {max-height: 0;max-width: 0;overflow: hidden;text-align: left;background-color: #f0f8ff;}#sk-container-id-4 div.sk-toggleable__content pre {margin: 0.2em;color: black;border-radius: 0.25em;background-color: #f0f8ff;}#sk-container-id-4 input.sk-toggleable__control:checked~div.sk-toggleable__content {max-height: 200px;max-width: 100%;overflow: auto;}#sk-container-id-4 input.sk-toggleable__control:checked~label.sk-toggleable__label-arrow:before {content: \"▾\";}#sk-container-id-4 div.sk-estimator input.sk-toggleable__control:checked~label.sk-toggleable__label {background-color: #d4ebff;}#sk-container-id-4 div.sk-label input.sk-toggleable__control:checked~label.sk-toggleable__label {background-color: #d4ebff;}#sk-container-id-4 input.sk-hidden--visually {border: 0;clip: rect(1px 1px 1px 1px);clip: rect(1px, 1px, 1px, 1px);height: 1px;margin: -1px;overflow: hidden;padding: 0;position: absolute;width: 1px;}#sk-container-id-4 div.sk-estimator {font-family: monospace;background-color: #f0f8ff;border: 1px dotted black;border-radius: 0.25em;box-sizing: border-box;margin-bottom: 0.5em;}#sk-container-id-4 div.sk-estimator:hover {background-color: #d4ebff;}#sk-container-id-4 div.sk-parallel-item::after {content: \"\";width: 100%;border-bottom: 1px solid gray;flex-grow: 1;}#sk-container-id-4 div.sk-label:hover label.sk-toggleable__label {background-color: #d4ebff;}#sk-container-id-4 div.sk-serial::before {content: \"\";position: absolute;border-left: 1px solid gray;box-sizing: border-box;top: 0;bottom: 0;left: 50%;z-index: 0;}#sk-container-id-4 div.sk-serial {display: flex;flex-direction: column;align-items: center;background-color: white;padding-right: 0.2em;padding-left: 0.2em;position: relative;}#sk-container-id-4 div.sk-item {position: relative;z-index: 1;}#sk-container-id-4 div.sk-parallel {display: flex;align-items: stretch;justify-content: center;background-color: white;position: relative;}#sk-container-id-4 div.sk-item::before, #sk-container-id-4 div.sk-parallel-item::before {content: \"\";position: absolute;border-left: 1px solid gray;box-sizing: border-box;top: 0;bottom: 0;left: 50%;z-index: -1;}#sk-container-id-4 div.sk-parallel-item {display: flex;flex-direction: column;z-index: 1;position: relative;background-color: white;}#sk-container-id-4 div.sk-parallel-item:first-child::after {align-self: flex-end;width: 50%;}#sk-container-id-4 div.sk-parallel-item:last-child::after {align-self: flex-start;width: 50%;}#sk-container-id-4 div.sk-parallel-item:only-child::after {width: 0;}#sk-container-id-4 div.sk-dashed-wrapped {border: 1px dashed gray;margin: 0 0.4em 0.5em 0.4em;box-sizing: border-box;padding-bottom: 0.4em;background-color: white;}#sk-container-id-4 div.sk-label label {font-family: monospace;font-weight: bold;display: inline-block;line-height: 1.2em;}#sk-container-id-4 div.sk-label-container {text-align: center;}#sk-container-id-4 div.sk-container {/* jupyter's `normalize.less` sets `[hidden] { display: none; }` but bootstrap.min.css set `[hidden] { display: none !important; }` so we also need the `!important` here to be able to override the default hidden behavior on the sphinx rendered scikit-learn.org. See: https://github.com/scikit-learn/scikit-learn/issues/21755 */display: inline-block !important;position: relative;}#sk-container-id-4 div.sk-text-repr-fallback {display: none;}</style><div id=\"sk-container-id-4\" class=\"sk-top-container\"><div class=\"sk-text-repr-fallback\"><pre>LinearRegression()</pre><b>In a Jupyter environment, please rerun this cell to show the HTML representation or trust the notebook. <br />On GitHub, the HTML representation is unable to render, please try loading this page with nbviewer.org.</b></div><div class=\"sk-container\" hidden><div class=\"sk-item\"><div class=\"sk-estimator sk-toggleable\"><input class=\"sk-toggleable__control sk-hidden--visually\" id=\"sk-estimator-id-4\" type=\"checkbox\" checked><label for=\"sk-estimator-id-4\" class=\"sk-toggleable__label sk-toggleable__label-arrow\">LinearRegression</label><div class=\"sk-toggleable__content\"><pre>LinearRegression()</pre></div></div></div></div></div>"
      ],
      "text/plain": [
       "LinearRegression()"
      ]
     },
     "execution_count": 23,
     "metadata": {},
     "output_type": "execute_result"
    }
   ],
   "source": [
    "m = linear_model.LinearRegression()\n",
    "m.fit(X_train, y_train)"
   ]
  },
  {
   "cell_type": "markdown",
   "id": "a53c3aa2-ae3b-413a-96fa-6c8d9c78e310",
   "metadata": {},
   "source": [
    "## Evaluation der Lösung\n",
    "Wir bestimmen den $R^2$-Wert und den (root) mean squared error (RMSE) auf den Trainings- und Testdaten. Dazu bestimmen wir zunächst die Modellvorhersage `y_pred`. Modellvorhersagen in scikit-learn macht man mit der `.predict` Methode, die jedes Modell besitzt. Auf die Parameter $w$ kann man mittels `m.coef_` bzw. `m.intercept` zugreifen."
   ]
  },
  {
   "cell_type": "code",
   "execution_count": 24,
   "id": "957fa5a1-3aff-4cf8-ae2b-fbd7289a87f6",
   "metadata": {},
   "outputs": [
    {
     "name": "stdout",
     "output_type": "stream",
     "text": [
      "R^2 Trainingsdaten: 0.8955275873177727.\n",
      "RMSE Trainingsdaten: 1.68582486670777.\n",
      "R^2 Testdaten: 0.9133183876478477.\n",
      "RMSE Testdaten: 1.5350557940957992.\n",
      "w0 = 4.8193142960357385\n",
      "w = [0.05461317 0.10204696]\n"
     ]
    }
   ],
   "source": [
    "# Metriken auf den Trainingsdaten\n",
    "y_pred = m.predict(X_train)\n",
    "print(f\"R^2 Trainingsdaten: {metrics.r2_score(y_train, y_pred)}.\")\n",
    "print(f\"RMSE Trainingsdaten: {metrics.mean_squared_error(y_train, y_pred, squared=False)}.\")\n",
    "\n",
    "# Metriken auf den Testdaten\n",
    "y_pred = m.predict(X_test)\n",
    "print(f\"R^2 Testdaten: {metrics.r2_score(y_test, y_pred)}.\")\n",
    "print(f\"RMSE Testdaten: {metrics.mean_squared_error(y_test, y_pred, squared=False)}.\")\n",
    "\n",
    "# Gelernte Koeffizienten der Modellfunktion:\n",
    "print(f\"w0 = {m.intercept_}\")\n",
    "print(f\"w = {m.coef_}\")"
   ]
  },
  {
   "cell_type": "code",
   "execution_count": null,
   "id": "ec326292-263c-4698-9684-a591c22e10b5",
   "metadata": {},
   "outputs": [],
   "source": []
  },
  {
   "cell_type": "markdown",
   "id": "888e1614-e4c5-49b0-a494-4defd0013133",
   "metadata": {
    "tags": []
   },
   "source": [
    "## ✏ Aufgaben\n",
    "1. Schauen Sie sich den Beispielcode noch einmal an und versuchen Sie, jede Zeile nachzuvollziehen.\n",
    "\n",
    "2. Öffnen Sie ein neues Jupyter Notebook und führen Sie eine lineare Regression für den Advertising Datensatz durch, bei der Sie alle drei Features `TV`, `Radio` und `Newspaper` verwenden. Führen Sie dazu nacheinander die folgenden Schritte aus:\n",
    "    * Daten einlesen.\n",
    "    * Features und Label auswählen.\n",
    "    * Daten in Test- und Trainingsdaten aufteilen.\n",
    "    * Erstellen und trainieren des Modells.\n",
    "    * Evaluation des Modells. Ist das Modell besser als das Modell mit zwei Features?\n",
    "    \n",
    "    Versuchen Sie, dabei nicht in den Beispielcode oben zu schauen.\n",
    "\n",
    "3. Ändern Sie die Aufteilung der Trainings- und Testdaten:\n",
    "    * Entfernen Sie das Argument `random_state` bei der Methode `train_test_split`. \n",
    "    * Probieren Sie verschiedene Größen für die Testdaten aus: 1%, 10%, 90%, 99%. Führen Sie für jede der Werte den Split und das Training mehrmals aus. Wie verhalten sich die Metriken? Wie lässt sich das Verhalten erklären?\n",
    "\n",
    "4. Eine beliebte Metrik für Regressionsprobleme ist der *mean absolute error (MAE)*.\n",
    "    * Recherchieren Sie, wie der MAE mit `sklearn` berechnet wird und berechnen Sie ihn für Ihr Modell.\n",
    "    * Geben Sie die mathematische Formel für den MAE an. Benutzen Sie dabei die Bezeichner aus der Vorlesung. Wann unterscheiden sich MAE und (Root-)MSE besonders?"
   ]
  },
  {
   "cell_type": "markdown",
   "id": "46adf9d7",
   "metadata": {},
   "source": []
  }
 ],
 "metadata": {
  "kernelspec": {
   "display_name": "Python 3 (ipykernel)",
   "language": "python",
   "name": "python3"
  },
  "language_info": {
   "codemirror_mode": {
    "name": "ipython",
    "version": 3
   },
   "file_extension": ".py",
   "mimetype": "text/x-python",
   "name": "python",
   "nbconvert_exporter": "python",
   "pygments_lexer": "ipython3",
   "version": "3.10.12"
  }
 },
 "nbformat": 4,
 "nbformat_minor": 5
}
