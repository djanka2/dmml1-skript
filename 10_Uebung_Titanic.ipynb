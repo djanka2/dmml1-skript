{
 "cells": [
  {
   "cell_type": "markdown",
   "id": "4a530001-df16-4477-94c4-5c303c93de4f",
   "metadata": {
    "tags": []
   },
   "source": [
    "# Praxisübung: Entscheidungsbaum\n",
    "Den Titanic Datensatz kennen Sie vielleicht aus anderen Veranstaltungen. Hier soll anhand von verschiedenen Features für einen Passagier der Titanic vorhergesagt werden, ob er/sie die Katastrophe überlebt hat. Einlesen der Daten, eine grobe Vorverarbeitung sowie Split in Trainings- und Testset sind hier bereits vorgegeben. "
   ]
  },
  {
   "cell_type": "code",
   "execution_count": null,
   "id": "fb66ffb8-c6c4-43f3-b381-28c6a0d83caa",
   "metadata": {},
   "outputs": [],
   "source": [
    "import numpy as np\n",
    "import pandas as pd\n",
    "import matplotlib.pyplot as plt\n",
    "\n",
    "from IPython.display import display\n",
    "\n",
    "pd.options.display.max_columns = 50\n",
    "pd.options.display.max_rows = 200\n",
    "plt.rcParams['figure.figsize'] = [16, 9]"
   ]
  },
  {
   "cell_type": "code",
   "execution_count": null,
   "id": "e683ba36-4a9d-4a94-b33a-8eccb0a44ba2",
   "metadata": {},
   "outputs": [],
   "source": [
    "from sklearn.model_selection import train_test_split\n",
    "\n",
    "df = pd.read_csv(\"../Daten/titanic.csv\")\n",
    "# Wir entfernen einige Features um das Problem übersichtlicher zu machen\n",
    "df = df.drop([\"PassengerId\", \"Name\",\"Ticket\", \"Cabin\"], axis=1)\n",
    "# Wir entfernen diejenigen Passagiere, für die das Alter nicht angegeben ist\n",
    "df = df[df[\"Age\"].isna() == False]\n",
    "\n",
    "# Label: Überlebt ja/nein\n",
    "y = df.pop(\"Survived\")\n",
    "# Features inkl. one-hot encoding der kategorischen\n",
    "X = pd.get_dummies(df)\n",
    "\n",
    "# Split in Trainings- und Testset\n",
    "X_train, X_test, y_train, y_test = train_test_split(X, y, test_size=0.2, random_state=42)\n",
    "\n",
    "X_train"
   ]
  },
  {
   "cell_type": "markdown",
   "id": "ff537c45-3dd2-40e9-9b7f-e5a1161772da",
   "metadata": {},
   "source": [
    "## ✏ Aufgabe 1\n",
    "Trainieren Sie einen Entscheidungsbaum für das Beispiel. Schauen Sie sich dazu das Notebook mit dem [Beispielcode](10_Beispiel_Entscheidungsbaum.ipynb) an. Visualisieren Sie ihr Ergebnis mit `plot_tree()`.\n",
    "Experimentieren Sie mit den Hyperparametern `max_depth` und `min_samples_split`. Was bedeuten diese Parameter? Wie ändert die Performance (accuracy, precision, recall) auf den Trainings- und Testdaten?"
   ]
  },
  {
   "cell_type": "code",
   "execution_count": null,
   "id": "6906f879-f515-4fc5-a20f-9ec3c10da35a",
   "metadata": {},
   "outputs": [],
   "source": [
    "from sklearn.tree import DecisionTreeClassifier, plot_tree\n",
    "from sklearn.metrics import accuracy_score, recall_score, precision_score\n",
    "\n",
    "# TO DO"
   ]
  },
  {
   "cell_type": "markdown",
   "id": "b819ace5-eda3-43be-9f7f-8fa15bfb364b",
   "metadata": {
    "tags": []
   },
   "source": [
    "## ✏ Aufgabe 2\n",
    "Führen Sie eine Hyperparameteroptimierung durch.\n",
    "1. Finden sie die besten Wert für die Baumtiefe mittels Hyperparametertuning und 5-facher Kreuzvalidierung.\n",
    "2. Finden sie die beste *Kombination* aus Baumtiefe und minimaler Anzahl benötigter Beispiele für einen Split mittels Hyperparametertuning und 5-facher Kreuzvalidierung."
   ]
  },
  {
   "cell_type": "code",
   "execution_count": null,
   "id": "33c78855-4988-4c1c-89cf-0b650f2f2a18",
   "metadata": {},
   "outputs": [],
   "source": [
    "from sklearn.model_selection import KFold\n",
    "\n",
    "# TO DO"
   ]
  },
  {
   "cell_type": "markdown",
   "id": "137b618f-d283-4727-ab60-a9ddf564ea8e",
   "metadata": {
    "tags": []
   },
   "source": [
    "## ✏ Aufgabe 3\n",
    "Wiederholen Sie Aufgabe 2 mit einer logistischen Regression.\n",
    "Sie können dafür statt der Klasse `LogisticRegression` die Klasse `LogisticRegressionCV` benutzen. Darin wird eine Kreuzvalidierung für den Regularisierungsparameter `C` durchgeführt. Erzeugen Sie ein Modell mit dem Parameter `penalty=\"l2\"` und wählen Sie 10 Werte für `C` und eine 5-fache Kreuzvalidierung. Was ist die (mathematische) Bedeutung von `C`?"
   ]
  },
  {
   "cell_type": "code",
   "execution_count": null,
   "id": "1749734c-448e-49ad-94e4-c814de5fcfa4",
   "metadata": {},
   "outputs": [],
   "source": [
    "from sklearn.linear_model import LogisticRegressionCV\n",
    "\n",
    "# TO DO"
   ]
  },
  {
   "cell_type": "markdown",
   "id": "5691c9ff-539d-42f2-8a34-da970ed0781d",
   "metadata": {},
   "source": [
    "## ✏ Aufgabe 4\n",
    "Vergleichen Sie beide Modelle in einem ROC Plot. Welche Aussagen können Sie aus dem Plot ableiten?"
   ]
  },
  {
   "cell_type": "code",
   "execution_count": null,
   "id": "c3693970-930f-4fd1-abb5-f8777c1d9d2e",
   "metadata": {},
   "outputs": [],
   "source": [
    "from sklearn.metrics import roc_curve\n",
    "\n",
    "# TO DO"
   ]
  }
 ],
 "metadata": {
  "kernelspec": {
   "display_name": "Python 3 (ipykernel)",
   "language": "python",
   "name": "python3"
  },
  "language_info": {
   "codemirror_mode": {
    "name": "ipython",
    "version": 3
   },
   "file_extension": ".py",
   "mimetype": "text/x-python",
   "name": "python",
   "nbconvert_exporter": "python",
   "pygments_lexer": "ipython3",
   "version": "3.9.6"
  }
 },
 "nbformat": 4,
 "nbformat_minor": 5
}
