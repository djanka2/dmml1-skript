{
 "cells": [
  {
   "cell_type": "markdown",
   "metadata": {},
   "source": [
    "# Übungen \n",
    "\n",
    "## ✏ Aufgabe 1\n",
    "Gegeben sei folgender Datensatz: \n",
    "\n",
    "| $x$ | $y$ |\n",
    "|----:|----:|\n",
    "| 0   | 3   |\n",
    "| 1   | 1   |\n",
    "| 2   | 4   |\n",
    "| 3   | 11  |\n",
    "\n",
    "Das Ziel der Übung ist es, die lineare Regressionsgerade, die durch den Koordinatenursprung geht, per Hand zu\n",
    "bestimmen, also die Gerade $f(x)=wx$ mit nur *einem Parameter* $w$.\n",
    "Gehen Sie dazu wie folgt vor:\n",
    "\n",
    "1.  Zeichnen Sie den Datensatz in ein Koordinatensystem. Wie könnte die\n",
    "    Regressionsgerade etwa aussehen? Zeichnen Sie -- per Augenmaß --\n",
    "    eine Gerade (durch den Koordinatenursprung) ein, die die Daten \"am\n",
    "    besten\" beschreibt.\n",
    "\n",
    "2.  Stellen Sie die Verlustfunktion $L(w)$ für den Datensatz auf.\n",
    "\n",
    "3.  Trainieren Sie das Modell, indem Sie das Minimum $\\hat{w}$ der Verlustfunktion bestimmen (Hinweis: Analysis, Kurvendiskussion!).\n",
    "\n",
    "4.  Zeichnen Sie die Gerade $f(x)=\\hat{w}x$ in das Koordinatensystem aus 1. Vergleichen Sie sie mit der \"geschätzten\" Geraden aus 1."
   ]
  },
  {
   "cell_type": "markdown",
   "metadata": {},
   "source": []
  }
 ],
 "metadata": {
  "kernelspec": {
   "display_name": "Python 3 (ipykernel)",
   "language": "python",
   "name": "python3"
  },
  "language_info": {
   "codemirror_mode": {
    "name": "ipython",
    "version": 3
   },
   "file_extension": ".py",
   "mimetype": "text/x-python",
   "name": "python",
   "nbconvert_exporter": "python",
   "pygments_lexer": "ipython3",
   "version": "3.10.12"
  }
 },
 "nbformat": 4,
 "nbformat_minor": 4
}
