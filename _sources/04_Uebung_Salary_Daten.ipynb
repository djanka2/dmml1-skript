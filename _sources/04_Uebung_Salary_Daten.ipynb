{
 "cells": [
  {
   "cell_type": "markdown",
   "id": "9e9b6627-1b31-43f0-8f65-5a1f4b0e3303",
   "metadata": {},
   "source": [
    "# Praxisübung: Polynomielle Regression\n",
    "\n",
    "In dieser Übung sollen Sie verschiedene Regressionsmodelle trainieren und auswerten, die für einen Mitarbeiter das Jahresgehalt (`salary`) vorhersagen.\n",
    "\n",
    "Wir importieren zunächst benötigte Bibliotheken."
   ]
  },
  {
   "cell_type": "code",
   "execution_count": null,
   "id": "e5cb8877-290a-46ac-8e28-9a7562353463",
   "metadata": {},
   "outputs": [],
   "source": [
    "import pandas as pd\n",
    "import numpy as np\n",
    "import matplotlib.pyplot as plt\n",
    "from sklearn import linear_model, metrics\n",
    "from sklearn.model_selection import train_test_split"
   ]
  },
  {
   "cell_type": "markdown",
   "id": "394b9318-628c-466f-a3f3-cdd13049db6c",
   "metadata": {},
   "source": [
    "## Daten\n",
    "Gegeben sind (fiktive) Mitarbeiterdaten eines großen Unternehmens. Jede Zeile in diesem DataFrame entspricht einem Mitarbeiter bzw. einer Mitarbeiterin. Hinterlegt sind die folgenden Features:\n",
    "* ID: Die Personalnummer\n",
    "* YearsInCompany: Seit wie vielen Jahren ist die Person in der Firma tätig\n",
    "* Department: Arbeitet die Person in der Entwicklung (Development), im Vertrieb (Sales) oder im administrativen Bereich (Administration)\n",
    "* Performance: Ein Maß, das die Performance des Mitarbeiters quantifiziert (zwischen 0 und 100)\n",
    "* MonthsInCompany: Seit wie vielen Monaten ist die Person in der Firma tätig\n",
    "* Salary: Das Jahresgehalt der Person in EUR\n",
    "\n",
    "Wir lesen zunächst die Daten ein und lassen uns einen Auszug anzeigen."
   ]
  },
  {
   "cell_type": "code",
   "execution_count": null,
   "id": "ebfdb82b-6f35-4c6b-b28f-91aca07a7283",
   "metadata": {},
   "outputs": [],
   "source": [
    "df = pd.read_csv(\"Daten/salary.csv\")\n",
    "df"
   ]
  },
  {
   "cell_type": "markdown",
   "id": "aca6c36c-e5c0-41ad-9800-d71bfe7e998c",
   "metadata": {},
   "source": [
    "## ✏ Aufgabe 1\n",
    "Trainieren Sie eine multiple lineare Regression auf den Features `YearsInCompany`, `Department` und `Performance`. Gehen Sie wie folgt vor:\n",
    "1. Wandeln Sie das kategorische Feature `Department` mittels One-Hot-Encoding in ein numerisches Feature um. Am einfachsten geht das, indem Sie den DataFrame mit der Pandas Funktion `get_dummies` umwandeln, siehe https://pandas.pydata.org/docs/reference/api/pandas.get_dummies.html. Welche Spalten werden automatisch erzeugt?\n",
    "2. Wählen Sie alle Features (Spalten) des DataFrames aus, mit denen das Modell trainiert werden soll. \n",
    "3. Teilen Sie die Daten in Test- und Trainingsdaten auf (70% Trainingsdaten, 30% Testdaten).\n",
    "4. Trainieren Sie das Modell.\n",
    "5. Evaluieren Sie das Modell, indem Sie den $R^2$-Wert auf den Trainings- und Testdaten berechnen.\n",
    "\n",
    "## ✏ Aufgabe 2\n",
    "Trainieren Sie eine polynomielle Regression mit einem quadratischen Term für das Feature `YearsInCompany`. Gehen Sie wie folgt vor:\n",
    "1. Erzeugen Sie eine Spalte im DataFrame, die die quadrierten Werte von `YearsInCompany` enthält, z.B. `YearsInCompanySquared`. \n",
    "2. Folgen Sie nun den Schritten 1 bis 5 aus Aufgabe 1.\n",
    "\n",
    "## ✏ Aufgabe 3\n",
    "Trainieren Sie ein Modell, welches zusätzlich einen Interaktionsterm zwischen `Department_Sales` und `Performance` enthält. Gehen Sie wie folgt vor:\n",
    "1. Erzeugen Sie eine Spalte im DataFrame, die das Produkt aus `Department_Sales` und `Performance` enthält.\n",
    "2. Folgen Sie nun den Schritten 1 bis 5 aus Aufgabe 1.\n",
    "3. Betrachten Sie noch einmal alle Modelle aus den Aufgaben 1 - 3. Welches Modell erklärt die Daten am besten? Welche Schlüsse können Sie hinsichtlich der Gehälter des Unternehmens ziehen?\n",
    "\n",
    "## ✏ Aufgabe 4\n",
    "Schreiben Sie für jedes der Modelle die zugehörige Modellfunktion $f(x)$ auf. Lassen Sie sich dafür die Koeffizienten der trainierten Modelle aus den vorherigen Aufgaben ausgeben (mit `m.coef_` bzw. `m.intercept_` erhalten sie den Vektor $w$ bzw. den Wert $w_0$).\n",
    "Was sagen die Werte für das konkrete Beispiel aus?"
   ]
  },
  {
   "cell_type": "markdown",
   "id": "2303efd8",
   "metadata": {},
   "source": []
  }
 ],
 "metadata": {
  "kernelspec": {
   "display_name": "Python 3 (ipykernel)",
   "language": "python",
   "name": "python3"
  },
  "language_info": {
   "codemirror_mode": {
    "name": "ipython",
    "version": 3
   },
   "file_extension": ".py",
   "mimetype": "text/x-python",
   "name": "python",
   "nbconvert_exporter": "python",
   "pygments_lexer": "ipython3",
   "version": "3.9.6"
  }
 },
 "nbformat": 4,
 "nbformat_minor": 5
}
