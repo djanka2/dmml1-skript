{
 "cells": [
  {
   "cell_type": "markdown",
   "id": "b12d54ff-2b7c-4523-be7e-bee97414a06b",
   "metadata": {},
   "source": [
    "# Praxisübung: Empfehlungsdienst"
   ]
  },
  {
   "cell_type": "code",
   "execution_count": null,
   "id": "87803cd3-9806-4445-9864-e3a699c6ca5c",
   "metadata": {},
   "outputs": [],
   "source": [
    "import numpy as np\n",
    "import pandas as pd\n",
    "import matplotlib.pyplot as plt\n",
    "import seaborn as sns\n",
    "import warnings"
   ]
  },
  {
   "cell_type": "markdown",
   "id": "d0270bae-3485-44d1-bd81-0d0eae3eb6f3",
   "metadata": {},
   "source": [
    "In dieser Übung geht es darum ein Empfehlungssystem für Filme mittels kollaborativem Filtern zu entwickeln. Wir beschränken uns dabei auf modellfreie Verfahren, d.h. nutzerbasiertes und objektbasiertes kollaboratives Filtern.\n",
    "\n",
    "Wir betrachten dazu den MovieLens 100k Datensatz, der insgesamt 100,000 Nutzerbewertungen von Kinofilmen enthält (Download hier https://files.grouplens.org/datasets/movielens/ml-100k.zip oder in ILIAS).\n",
    "\n",
    "Dazu lesen wir zunächst die Daten ein und benennen die Spalten."
   ]
  },
  {
   "cell_type": "code",
   "execution_count": null,
   "id": "0438c902-a2af-42d3-a942-fde52259d8c5",
   "metadata": {},
   "outputs": [],
   "source": [
    "df = pd.read_csv(\"Daten/ml-100k/u.data\", sep=\"\\t\", header=None)\n",
    "df.columns = [\"user_id\", \"item_id\", \"rating\", \"timestamp\"]\n",
    "\n",
    "df"
   ]
  },
  {
   "cell_type": "markdown",
   "id": "836a88d5-cfb2-4996-9ed3-52f9f4f9732e",
   "metadata": {},
   "source": [
    "Eine Zeile entspricht einer Bewertung eines Nutzers für einen Film (an einem Zeitpunkt). Weitere Informationen zu den Filmen ist in der Datei `u.item` enthalten."
   ]
  },
  {
   "cell_type": "code",
   "execution_count": null,
   "id": "39619aa2-a673-41f9-938b-9a80bd6cc9c8",
   "metadata": {},
   "outputs": [],
   "source": [
    "df_items = pd.read_csv(\"Daten/ml-100k/u.item\", sep=\"|\", header=None, encoding_errors=\"ignore\")\n",
    "df_items.columns = [\"movie id\", \"movie title\", \"release date\", \"video release date\", \"IMDb URL\", \"unknown\", \"Action\", \"Adventure\", \"Animation\", \n",
    "                    \"Children's\", \"Comedy\", \"Crime\", \"Documentary\", \"Drama\", \"Fantasy\", \"Film-Noir\", \"Horror\", \"Musical\",\n",
    "                    \"Mystery\", \"Romance\", \"Sci-Fi\", \"Thriller\", \"War\", \"Western\"]\n",
    "df_items"
   ]
  },
  {
   "cell_type": "markdown",
   "id": "42a699cc-a728-4a53-9809-f5ed04381105",
   "metadata": {},
   "source": [
    "Wir joinen nur die Titel und arbeiten dann mit `df` weiter."
   ]
  },
  {
   "cell_type": "code",
   "execution_count": null,
   "id": "bd3f0800-bd16-4acc-b178-5e026b6aac61",
   "metadata": {},
   "outputs": [],
   "source": [
    "df = df.merge(df_items[[\"movie id\", \"movie title\"]], left_on=\"item_id\", right_on=\"movie id\")\n",
    "df"
   ]
  },
  {
   "cell_type": "markdown",
   "id": "9d6c5f23-56df-4e7a-a680-17ccbc96f551",
   "metadata": {},
   "source": [
    "## ✏ Aufgabe 1\n",
    "1. Geben Sie die Anzahl der Benutzer und die Anzahl der Filme aus.\n",
    "2. Plotten Sie die Verteilung der Bewertungen."
   ]
  },
  {
   "cell_type": "code",
   "execution_count": null,
   "id": "5d9b5e95-5511-4209-9834-149792b5964e",
   "metadata": {},
   "outputs": [],
   "source": [
    "# TO DO"
   ]
  },
  {
   "cell_type": "markdown",
   "id": "3c975838-555e-4f7a-a39a-abef7a46a151",
   "metadata": {},
   "source": [
    "## ✏ Aufgabe 2\n",
    "\n",
    "Welches sind die beliebtesten Filme?"
   ]
  },
  {
   "cell_type": "code",
   "execution_count": null,
   "id": "9f9d7476-2878-41fa-b490-16ce50a0a271",
   "metadata": {},
   "outputs": [],
   "source": [
    "# TO DO"
   ]
  },
  {
   "cell_type": "markdown",
   "id": "f81a55a6-d5bb-4461-b68b-e4dd52e000da",
   "metadata": {},
   "source": [
    "## ✏ Aufgabe 3\n",
    "\n",
    "Welches sind die beliebtesten Filme, die mindestens 10 Bewertungen haben? Fügen Sie dazu einer Spalte `n_ratings` hinzu, die die Anzahl der Bewertungen für einen Film enthält und führen Sie danach die Aggregation aus."
   ]
  },
  {
   "cell_type": "code",
   "execution_count": null,
   "id": "1387f249-57f7-49b2-b4e0-9fd86196e07d",
   "metadata": {},
   "outputs": [],
   "source": [
    "# TO DO"
   ]
  },
  {
   "cell_type": "markdown",
   "id": "228469d7-80e5-41bd-ac89-cf2bb5290aca",
   "metadata": {},
   "source": [
    "---\n",
    "Als nächstes spalten wir die Daten in Trainings- und Testset. Das Training besteht beim kollaborativen Filtern nur aus dem Ermitteln der Distanzen zwischen einzelnen Nutzern oder Objekten. Die Distanzen hängen allerdings davon ab, welche Bewertungen im Trainingsdatensatz sind."
   ]
  },
  {
   "cell_type": "code",
   "execution_count": null,
   "id": "54793b88-45db-4c0a-9c51-15e0cea8af1e",
   "metadata": {},
   "outputs": [],
   "source": [
    "from sklearn.model_selection import train_test_split\n",
    "\n",
    "X_train, X_test = train_test_split(df, shuffle=True, random_state=42, test_size=0.25)"
   ]
  },
  {
   "cell_type": "markdown",
   "id": "9387ee6b-6c57-404f-b7da-0923a3eddb26",
   "metadata": {},
   "source": [
    "Als nächstes müssen wir aus den Bewertungen die (unvollständige) Interaktionsmatrix aufbauen, in der eine Zeile einen Nutzer und eine Spalte einen Film repräsentiert.\n",
    "\n",
    "Die bekannten Elemente der Interaktionsmatrix sind in den ersten drei Spalten unseres DataFrames spezifiziert: `rating` enthält die Matrixeinträge und `user_id` bzw. `item_id` enthalten die zugehörigen Zeilen- bzw. Spaltenindizes.\n",
    "\n",
    "Dies ist auch ein gängiges Speicherformat für sog. *dünnbesetzte* (sparse) Matrizen: Matrizen, bei denen nur wenige Elemente ungleich 0 sind können platzsparend gespeichert werden, indem nur die Nichtnull-Einträge gespeichert werden. Ein gängiges Format dafür ist das Koordinatenformat: hierzu wird eine Matrix beliebiger Dimension als drei (eindimensionale) Arrays gleicher Länge abgespeichert:\n",
    "- Der erste Array enthält die Daten\n",
    "- Der zweite Array enthält die Zeilenindizes\n",
    "- Der dritte Array enthält die Spaltenindizes\n",
    "\n",
    "Wir nutzen diese Funktionalität um unseren Datensatz zunächst schnell in eine dünnbesetzte Matrix `np.coo_matrix` (*COOrdinate matrix*) umzuwandeln und anschließend in eine \"normale\" Matrix (NumPy Array), auf der wir dann weiterarbeiten."
   ]
  },
  {
   "cell_type": "code",
   "execution_count": null,
   "id": "30dcf7bf-d72a-41d0-b75f-e4627df21955",
   "metadata": {},
   "outputs": [],
   "source": [
    "from scipy.sparse import coo_matrix\n",
    "\n",
    "n_rows = len(df.user_id.unique())\n",
    "n_cols = len(df.item_id.unique())\n",
    "\n",
    "row = X_train[\"user_id\"] - 1\n",
    "col = X_train[\"item_id\"] - 1\n",
    "data = X_train[\"rating\"]\n",
    "user_item_matrix_s = coo_matrix((data, (row, col)), shape=(n_rows, n_cols))\n",
    "user_item_matrix = user_item_matrix_s.toarray()"
   ]
  },
  {
   "cell_type": "markdown",
   "id": "011b6e6f-c8a0-456a-b9df-f5b428e32081",
   "metadata": {
    "tags": []
   },
   "source": [
    "Für das kollaborative Filtern brauchen wir eine Metrik, die Distanzen zwischen Benutzern (beim nutzerbasierten kollaborativen Filtern) bzw. Filmen (beim objektbasierten kollaborativen Filtern) quantifiziert. In der Vorlesung haben wir zwei Metriken kennengelernt:\n",
    "\n",
    "1. Pearson-Korrelation: \n",
    "\n",
    "$$dist(x,y)=1-\\frac{\\sum_{i\\in I_{x,y}} (r(x,i)-\\bar{r}_x)(r(y,i)-\\bar{r}_y)}{ \\sqrt{\\sum_{i\\in I_{x,y}} (r(x,i)-\\bar{r}_x)^2 \\sum_{i\\in I_{x,y}} (r(y,i)-\\bar{r}_y)^2} }$$\n",
    "\n",
    "2. Kosinus-Ähnlichkeit:\n",
    "\n",
    "$$dist(x,y)=1-\\frac{\\sum_{i\\in I_{x,y}} r(x,i)r(y,i)}{ \\sqrt{\\sum_{i\\in I_{x,y}} r(x,i)^2 \\sum_{i\\in I_{x,y}} r(y,i)^2} }$$\n",
    "\n",
    "Wobei $I_{x,y}$ diejenigen Indizes der beiden Vektoren (zwei Benutzer oder zwei Objekte) sind, für die bei *beiden* Vektoren die Einträge bekannt sind (wo also Bewertungen vorliegen).\n",
    "\n",
    "## ✏ Aufgabe 4\n",
    "\n",
    "Wie groß ist die minimale bzw. maximale Distanz von zwei Objekten bei diesen beiden Metriken?"
   ]
  },
  {
   "cell_type": "code",
   "execution_count": null,
   "id": "0cf0ed38-dafd-4faa-a228-6266809f48cc",
   "metadata": {},
   "outputs": [],
   "source": [
    "# Antwort"
   ]
  },
  {
   "cell_type": "markdown",
   "id": "e26c684d-b2bd-431d-9644-1fca2747d901",
   "metadata": {},
   "source": [
    "---\n",
    "Wir entscheiden uns zunächst für die Pearson-Korrelation. Ein wichtiges Detail ist die Indexmenge $I_{x,y}$: Es wird nicht über *alle* Werte der Vektoren summiert, sondern nur über die Einträge, die bei beiden vorhanden sind. Da dies mit NumPy nicht so einfach zu realisieren ist, benutzen wir Pandas. Wir fassen dazu die Interaktionsmatrix als DataFrame auf und kennzeichnen nicht vorhandene Ratings als NaNs. Die Pandas Implementierung der Korrelation ignoriert diese dann bei der Berechnung."
   ]
  },
  {
   "cell_type": "code",
   "execution_count": null,
   "id": "203beb73-47c8-4112-a10b-828e6422f0f4",
   "metadata": {},
   "outputs": [],
   "source": [
    "user_item_matrix = pd.DataFrame(user_item_matrix)\n",
    "user_item_matrix = user_item_matrix.mask(user_item_matrix == 0)"
   ]
  },
  {
   "cell_type": "markdown",
   "id": "aa191c85-0804-43bf-b052-0f10c9ae2cee",
   "metadata": {},
   "source": [
    "## ✏ Aufgabe 5\n",
    "Wir möchten **nutzerbasiertes** kollaboratives Filtern implementieren. Dafür berechnen wir zunächst die Distanzen zwischen allen Benutzern mittels Pearson-Korrelation. \n",
    "1. Welche Dimension hat die Matrix, die die Distanzen zwischen allen Nutzern enthält?\n",
    "2. Schauen Sie sich die Pandas Methode `DataFrame.corr` an https://pandas.pydata.org/docs/reference/api/pandas.DataFrame.corr.html, berechnen Sie damit die Distanzmatrix und speichern Sie sie in einer Variable `dist`. Achten Sie darauf, dass alle Distanzen positiv sind (es können sich manchmal Rundungsfehler einschleichen). Wie ist der Parameter `min_periods` zu interpretieren? Wählen Sie einen geeigneten Wert."
   ]
  },
  {
   "cell_type": "code",
   "execution_count": null,
   "id": "5b3c3507-17d3-4a7e-be66-b7c101868441",
   "metadata": {},
   "outputs": [],
   "source": [
    "# TO DO"
   ]
  },
  {
   "cell_type": "markdown",
   "id": "9a858906-f667-422d-abfb-ccc2f04a13eb",
   "metadata": {},
   "source": [
    "---\n",
    "Für eine Vorhersage geht man nun wie folgt vor:\n",
    "1. Identifiziere die `k` nächsten Nachbarn eines Nutzers, wobei `k` ein Hyperparameter ist.\n",
    "2. Wähle als Vorhersage den Mittelwert über die Bewertungen der `k` nächsten Nachbarn.\n",
    "\n",
    "Wir benutzen die `NearestNeighbors` Klasse aus `scikit-learn`, um die `k` nächsten Nachbarn zu bestimmen."
   ]
  },
  {
   "cell_type": "code",
   "execution_count": null,
   "id": "6458eddc-bbd1-4337-ab3c-c9dff2a8efc3",
   "metadata": {},
   "outputs": [],
   "source": [
    "from sklearn.neighbors import NearestNeighbors\n",
    "\n",
    "k = 30\n",
    "knn = NearestNeighbors(n_neighbors=k, metric=\"precomputed\")\n",
    "knn.fit(dist)"
   ]
  },
  {
   "cell_type": "markdown",
   "id": "a58efaaa-5f9a-4054-908c-54f5a8a6aadb",
   "metadata": {},
   "source": [
    "Mit der folgenden Methode können Sie einzelne Bewertungen für Paare (`user_id`, `item_id`) vorhersagen."
   ]
  },
  {
   "cell_type": "code",
   "execution_count": null,
   "id": "61365ab6-eff8-4c3e-8a6b-89e6629dd408",
   "metadata": {},
   "outputs": [],
   "source": [
    "def predict_rating(user_id, item_id, user_item_matrix, dist, knn):\n",
    "    neighbors = knn.kneighbors(dist[user_id-1].reshape(1,-1), return_distance=False)\n",
    "    col = user_item_matrix.iloc[neighbors[0], item_id-1]\n",
    "    with warnings.catch_warnings():\n",
    "        warnings.simplefilter(\"ignore\", category=RuntimeWarning)\n",
    "        pred_rating = col.mean()\n",
    "    return pred_rating"
   ]
  },
  {
   "cell_type": "markdown",
   "id": "abb6a75a-8bd9-4252-9b05-7a85eebf7cd1",
   "metadata": {
    "tags": []
   },
   "source": [
    "## ✏ Aufgabe 6\n",
    "1. Verstehen Sie, was die Methode macht? Wie unterscheidet Sie sich von der Vorhersagefunktion aus der Vorlesung (Folie 13)?\n",
    "2. Mit `with warnings.catch_warnings()` werden Warnungen unterdrückt, falls der Mittelwert über einen Vektor berechnet wird, der nur aus `nan`s besteht (der Mittelwert ist in diesem Fall auch `nan`). Wann tritt dieser Fall auf?\n",
    "3. Benutzen Sie die Funktion um eine Vorhersage für `user_id=196` und `item_id=242` zu machen (dies ist der erste Eintrag im Datensatz). Wie groß ist die Abweichung zu der tatsächlichen Bewertung?"
   ]
  },
  {
   "cell_type": "code",
   "execution_count": null,
   "id": "6e620618-8322-4725-905b-3f17bdf9c09a",
   "metadata": {},
   "outputs": [],
   "source": [
    "# TO DO"
   ]
  },
  {
   "cell_type": "markdown",
   "id": "739403ea-e02b-4dd7-8051-b09208bc9ccb",
   "metadata": {},
   "source": [
    "## ✏ Aufgabe 7\n",
    "1. Machen Sie Vorhersagen auf dem gesamten Trainings- und Testdatensatz und speichern Sie diese in einer zusätzlichen Spalte `pred_rating`. Sie können dafür einfach über alle Zeilen iterieren (`DataFrame.iterrows()`) und die Funktion `pred_rating` ausführen.\n",
    "2. Berechnen Sie die mittlere absolute Abweichung auf beiden Datensätzen."
   ]
  },
  {
   "cell_type": "code",
   "execution_count": null,
   "id": "29c9b693-f56d-4d83-9cb1-4078d1354218",
   "metadata": {},
   "outputs": [],
   "source": [
    "# TO DO"
   ]
  },
  {
   "cell_type": "markdown",
   "id": "bfd5c535-f7d0-489f-b774-a69b351c6030",
   "metadata": {},
   "source": [
    "## ✏ Aufgabe 8\n",
    "Bisher ging es um *Vorhersagen* von Bewertungen. Relevanter sind aber oft *Empfehlungen* (Hintergrund: bei Filmen, die dem Nutzer ohnehin nicht gefallen, ist die Vorhersagegenauigkeit nicht so wichtig). Als nächstes soll das System Empfehlungen machen können.\n",
    "\n",
    "1. Schreiben Sie eine Funktion, die für jeden Benutzer die 5 Filme mit der besten vorhergesagten Bewertung empfiehlt.\n",
    "2. Berechnen Sie die mittlere absolute Abweichung nur für die Empfehlungen."
   ]
  },
  {
   "cell_type": "code",
   "execution_count": null,
   "id": "9a75ae62-2a77-4e90-a2a3-ce9ec0db8cf5",
   "metadata": {},
   "outputs": [],
   "source": [
    "# TO DO"
   ]
  },
  {
   "cell_type": "markdown",
   "id": "7d107775-add5-4f00-943d-1d4c62878c96",
   "metadata": {},
   "source": [
    "## ✏ Weitere Aufgaben \n",
    "Implementieren Sie als nächstes folgende Varianten des Systems und evaluieren Sie diese.\n",
    "1. Benutzen Sie die Kosinus-Ähnlichkeit statt der Korrelation als Abstandsmaß. Tipp: Ersetzen Sie vorher alle `nan`s durch den Mittelwert pro User bevor Sie die Distanzmatrix berechnen.\n",
    "2. Machen Sie statt nutzerbasiertem ein objektbasiertes kollaboratives Filtern. Starten Sie, indem Sie die Distanzmatrix für alle *Objekte* berechnen. \n",
    "3. Die Vorhersage für die Bewertung wurde in der Vorlesung etwas anders eingeführt: $$ \\tilde{r}(x,s)=\\bar{r}_x+\\frac{1}{k} \\sum_{x'\\in kNN(x)} (r(x',s)-\\bar{r}_{x'})$$ Modifizieren Sie das Notebook so, dass die Funktion $\\tilde{r}$ für die Vorhersage benutzt wird. \n",
    "- Vergleich mit state of the art: http://www.mymedialite.net/examples/datasets.html\n"
   ]
  },
  {
   "cell_type": "code",
   "execution_count": null,
   "id": "d0d64a66-487e-4bd8-86e1-e8016b188ac1",
   "metadata": {},
   "outputs": [],
   "source": [
    "# TO DO"
   ]
  }
 ],
 "metadata": {
  "kernelspec": {
   "display_name": "Python 3 (ipykernel)",
   "language": "python",
   "name": "python3"
  },
  "language_info": {
   "codemirror_mode": {
    "name": "ipython",
    "version": 3
   },
   "file_extension": ".py",
   "mimetype": "text/x-python",
   "name": "python",
   "nbconvert_exporter": "python",
   "pygments_lexer": "ipython3",
   "version": "3.9.6"
  }
 },
 "nbformat": 4,
 "nbformat_minor": 5
}
