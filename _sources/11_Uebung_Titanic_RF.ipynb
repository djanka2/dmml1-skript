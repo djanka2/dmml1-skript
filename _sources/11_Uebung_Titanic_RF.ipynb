{
 "cells": [
  {
   "cell_type": "markdown",
   "id": "dcec7130",
   "metadata": {},
   "source": [
    "# Praxisübung: Ensemble Modelle\n",
    "\n",
    "In dieser Übung wenden Sie die `scikit-learn` Implementierungen des Random Forest und des Gradient Boosting auf den Titanic-Datensatz an. Benutzen Sie dafür den Code aus der vorherigen Übung."
   ]
  },
  {
   "cell_type": "markdown",
   "id": "e77f4169-c251-4d1f-a557-e23e7a365bb7",
   "metadata": {},
   "source": [
    "## ✏ Aufgabe 1\n",
    "Trainieren Sie einen Random Forest für das Wohnungsbeispiel. Experimentieren Sie mit den Parametern ``n_estimators``, ``max_depth`` und ``max_features``, um die Performance zu optimieren (entweder händisch oder mit GridSearchCV --> Vorsicht, Rechenzeit!). Was bedeuten die Parameter? "
   ]
  },
  {
   "cell_type": "code",
   "execution_count": null,
   "id": "effcbba4-12dc-4f79-8892-fa446af437ab",
   "metadata": {},
   "outputs": [],
   "source": [
    "# TO DO"
   ]
  },
  {
   "cell_type": "markdown",
   "id": "d765e2e2-dd91-427b-af5e-8036b26f3cb8",
   "metadata": {},
   "source": [
    "## ✏ Aufgabe 2\n",
    "Trainieren Sie ein Gradient Boosting Regressionsmodell für das Wohnungsbeispiel. Experimentieren Sie mit den Parametern ``learning_rate``, ``max_leaf_nodes``, ``n_estimators``, ``max_depth`` und ``max_features``, um die Performance zu optimieren (entweder händisch oder mit GridSearchCV --> Vorsicht, Rechenzeit!). Was bedeuten die Parameter?"
   ]
  },
  {
   "cell_type": "code",
   "execution_count": null,
   "id": "3931d465-890d-448c-af5e-8f7a5305c05c",
   "metadata": {},
   "outputs": [],
   "source": [
    "# TO DO"
   ]
  },
  {
   "cell_type": "markdown",
   "id": "6547d0b7-0934-4209-b365-f5b3275151c7",
   "metadata": {},
   "source": [
    "## ✏ Aufgabe 3\n",
    "Welcher Algorithmus ist in folgendem Code realisiert?"
   ]
  },
  {
   "cell_type": "code",
   "execution_count": null,
   "id": "a937e8ea-a462-4895-bc3c-fa48d79bf09a",
   "metadata": {},
   "outputs": [],
   "source": [
    "from sklearn.datasets import load_iris\n",
    "from sklearn.tree import DecisionTreeClassifier, plot_tree\n",
    "from sklearn.utils import resample\n",
    "from sklearn.metrics import accuracy_score\n",
    "from scipy.stats import mode\n",
    "\n",
    "iris = load_iris()\n",
    "X = iris.data\n",
    "y = iris.target\n",
    "\n",
    "X_train, X_test, y_train, y_test = train_test_split(X, y, test_size=0.2, random_state=42)\n",
    "\n",
    "n_trees = 500\n",
    "accuracy_scores = []\n",
    "\n",
    "Y_pred = np.empty([n_trees, len(X_test)], dtype=np.uint8)\n",
    "\n",
    "for k in range(n_trees):\n",
    "    X_train_, y_train_ = resample(X_train, y_train, replace=True)\n",
    "    \n",
    "    clf = DecisionTreeClassifier(random_state=42)\n",
    "    clf.fit(X_train_, y_train_)\n",
    "    \n",
    "    Y_pred[k] = clf.predict(X_test)\n",
    "    accuracy_scores.append(accuracy_score(y_test, clf.predict(X_test)))\n",
    "\n",
    "y_pred, count = mode(Y_pred)\n",
    "print(accuracy_score(y_test, y_pred[0]))\n",
    "print(np.mean(accuracy_scores))"
   ]
  },
  {
   "cell_type": "code",
   "execution_count": null,
   "id": "4d89e48f-a718-426e-aaed-a7a8d553460a",
   "metadata": {},
   "outputs": [],
   "source": []
  }
 ],
 "metadata": {
  "kernelspec": {
   "display_name": "Python 3 (ipykernel)",
   "language": "python",
   "name": "python3"
  },
  "language_info": {
   "codemirror_mode": {
    "name": "ipython",
    "version": 3
   },
   "file_extension": ".py",
   "mimetype": "text/x-python",
   "name": "python",
   "nbconvert_exporter": "python",
   "pygments_lexer": "ipython3",
   "version": "3.9.18"
  }
 },
 "nbformat": 4,
 "nbformat_minor": 5
}
