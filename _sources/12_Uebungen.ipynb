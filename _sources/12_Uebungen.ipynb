{
 "cells": [
  {
   "cell_type": "markdown",
   "id": "46ad98bc-d38f-41b7-8093-34a73d3736e8",
   "metadata": {},
   "source": [
    "# Übung: Eigenwerte und PCA"
   ]
  },
  {
   "cell_type": "markdown",
   "id": "b3ef3746",
   "metadata": {},
   "source": [
    "## ✏ Aufgabe 1\n",
    "\n",
    "Zeigen Sie:\n",
    "1. Die Matrix $M=\\frac{1}{5}\\begin{pmatrix}3 & 4 \\\\-4 & 3 \\end{pmatrix}$ ist orthogonal.\n",
    "2. Das Produkt zweier orthogonaler Matrizen ist eine orthogonale Matrix.\n",
    "3. Die Determinante einer orthogonalen Matrix ist $+1$ oder $-1$.\n",
    "\n",
    "\n",
    "## ✏ Aufgabe 2\n",
    "\n",
    "Führen Sie für die Matrix $A=\\begin{pmatrix}1 & 2 & 3\\\\4 & 5 & 6\\end{pmatrix}$ folgende Schritte durch (mit NumPy):\n",
    "1. Berechnen Sie die Eigenwerte und Eigenvektoren von $A^TA$ und $AA^T$ (siehe https://numpy.org/doc/stable/reference/generated/numpy.linalg.eig.html)\n",
    "2. Um sicherzugehen, dass Sie die Ergebnisse richtig interpretieren, berechnen Sie aus den Eigenwerten und Eigenvektoren wieder die Matrizen $A^TA$ und $AA^T$.\n",
    "\n",
    "Hinweis: Schauen Sie in die NumPy Dokumentation und machen Sie sich klar, welche Rückgabewerte die Funktionen haben (bzw. welche Dimensionen die verschiedenen Matrizen haben). Vergleichen Sie die Angaben in der NumPy Dokumentation mit den Vorlesungsfolien bzw. -skript zum Thema Eigenwertzerlegung und machen Sie sich klar, welche mathematischen Objekte gemeint sind (Anmerkung: eine unitäre Matrix $U$ ist die Entsprechung einer orthogonalen Matrix in den komplexen Zahlen $\\mathbb{C}$, also eine Matrix über den komplexen Zahlen mit der Eigenschaft $U^*U=I$)."
   ]
  },
  {
   "cell_type": "markdown",
   "id": "4e52c1c6-8d03-4340-9ab4-6db39fa9352d",
   "metadata": {},
   "source": [
    "## ✏ Aufgabe 3\n",
    "Schauen Sie sich im folgenden Skript den Abschnitt Hauptkomponentenanalyse an, vergleichen Sie mit den Vorlesungsfolien und versuchen Sie, die einzlnen Schritte nachzuvollziehen.\n",
    "\n",
    "### Datenset\n",
    "Der folgende Code erzeugt ein Datenset, anhand dessen man die PCA gut visualisieren kann."
   ]
  },
  {
   "cell_type": "code",
   "execution_count": null,
   "id": "761c7da2-f67c-46b7-8656-abf7f2d10580",
   "metadata": {},
   "outputs": [],
   "source": [
    "import numpy as np\n",
    "import matplotlib.pyplot as plt\n",
    "\n",
    "# Wir erzeugen uns zufällige Daten in 3 Dimensionen (Source: Hands-on Machine Learning) \n",
    "np.random.seed(42)\n",
    "m = 500\n",
    "w1, w2 = 0.1, 0.3\n",
    "noise = 0.1\n",
    "\n",
    "angles = np.random.rand(m) * 3 * np.pi / 2 - 0.5\n",
    "X = np.empty((m, 3))\n",
    "X[:, 0] = np.cos(angles) + np.sin(angles)/2 + noise * np.random.randn(m) / 2\n",
    "X[:, 1] = np.sin(angles) * 0.7 + noise * np.random.randn(m) / 2\n",
    "X[:, 2] = X[:, 0] * w1 + X[:, 1] * w2 + noise * np.random.randn(m)"
   ]
  },
  {
   "cell_type": "markdown",
   "id": "07ca33a8-641a-4fca-ada2-384954c47d3c",
   "metadata": {},
   "source": [
    "### Hauptkomponentenanalyse"
   ]
  },
  {
   "cell_type": "code",
   "execution_count": null,
   "id": "e3edffcd",
   "metadata": {},
   "outputs": [],
   "source": [
    "# Anzahl Komponenten\n",
    "m = 2\n",
    "\n",
    "# Schritt 1: Standardisieren\n",
    "X_zent = (X - X.mean(axis=0)) / X.std(axis=0)\n",
    "\n",
    "# Schritt 2: Eigenwertzerlegung der Kovarianzmatrix\n",
    "S, V = np.linalg.eig(X_zent.T@X_zent)\n",
    "Vt = V.T\n",
    "\n",
    "# Schritt 3: Projizieren auf 2D mit den ersten zwei Zeilen von VT (bzw. Spalten von V). \n",
    "# Das entspricht der .transform() Methode der PCA für zwei Hauptkomponenten).\n",
    "X2D = X_zent @ Vt[:m,:].T\n",
    "\n",
    "# Rekonstruierte Version der Daten (in 3d!)\n",
    "X_tilde = X2D @ Vt[:m,:]*X.std(axis=0) + X.mean(axis=0)\n",
    "\n",
    "# Eigenwerte der Kovarianzmatrix normiert ergibt \"% Varianz erklärt\" jeder Komponente\n",
    "plt.bar(range(3), S/S.sum())"
   ]
  },
  {
   "cell_type": "markdown",
   "id": "5e3e5853-0a8b-424a-a2f0-08740fa7d3b0",
   "metadata": {},
   "source": [
    "### Plotten der Daten in 3d \n",
    "(benötigt plotly: Anaconda Prompt -> `conda activate dmml1` -> `pip install plotly`)"
   ]
  },
  {
   "cell_type": "code",
   "execution_count": null,
   "id": "f6d6cd92-7787-498f-8267-6b2419633181",
   "metadata": {},
   "outputs": [],
   "source": [
    "import plotly.graph_objs as go\n",
    "from plotly.subplots import make_subplots\n",
    "\n",
    "# Plot in 3d und 2d\n",
    "fig = make_subplots(rows=1, cols=2, specs=[[{\"type\": \"scene\"}, {\"type\": \"xy\"}]],)\n",
    "fig.add_trace(go.Scatter3d(x=X[:,0], y=X[:,1], z=X[:,2], mode=\"markers\"),row=1, col=1)\n",
    "fig.add_trace(go.Scatter3d(x=X_tilde[:,0], y=X_tilde[:,1], z=X_tilde[:,2], mode=\"markers\"),row=1, col=1)\n",
    "fig.add_trace(go.Scatter(x=X2D[:, 0], y=X2D[:, 1], mode=\"markers\"),row=1, col=2)\n",
    "fig.update_traces(marker=dict(size=3))\n",
    "fig.update_layout(height=600, width=1200)\n",
    "fig.show()"
   ]
  },
  {
   "cell_type": "code",
   "execution_count": null,
   "id": "9ca2d967",
   "metadata": {},
   "outputs": [],
   "source": []
  }
 ],
 "metadata": {
  "kernelspec": {
   "display_name": "Python 3 (ipykernel)",
   "language": "python",
   "name": "python3"
  },
  "language_info": {
   "codemirror_mode": {
    "name": "ipython",
    "version": 3
   },
   "file_extension": ".py",
   "mimetype": "text/x-python",
   "name": "python",
   "nbconvert_exporter": "python",
   "pygments_lexer": "ipython3",
   "version": "3.9.18"
  }
 },
 "nbformat": 4,
 "nbformat_minor": 5
}
