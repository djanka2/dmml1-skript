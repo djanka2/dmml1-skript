{
 "cells": [
  {
   "cell_type": "markdown",
   "metadata": {},
   "source": [
    "# Übungen \n",
    "\n",
    "## ✏ Aufgabe 1\n",
    "Gegeben sei folgender Datensatz: \n",
    "\n",
    "| $x$ | $y$ |\n",
    "|----:|----:|\n",
    "| 0   | 3   |\n",
    "| 1   | 1   |\n",
    "| 2   | 4   |\n",
    "| 3   | 11  |\n",
    "\n",
    "Das Ziel der Übung ist es, die lineare Regressionsgerade, die durch den Koordinatenursprung geht, per Hand zu\n",
    "bestimmen, also die Gerade $f(x)=wx$ mit nur *einem Parameter* $w$.\n",
    "Gehen Sie dazu wie folgt vor:\n",
    "\n",
    "1.  Zeichnen Sie den Datensatz in ein Koordinatensystem. Wie könnte die\n",
    "    Regressionsgerade etwa aussehen? Zeichnen Sie -- per Augenmaß --\n",
    "    eine Gerade (durch den Koordinatenursprung) ein, die die Daten \"am\n",
    "    besten\" beschreibt.\n",
    "\n",
    "2.  Stellen Sie die Verlustfunktion $L(w)$ für den Datensatz auf.\n",
    "\n",
    "3.  Bestimmen Sie das Minimum $\\hat{w}$ der Verlustfunktion (Hinweis: Analysis, Kurvendiskussion!).\n",
    "\n",
    "4.  Zeichnen Sie die Gerade $f(x)=\\hat{w}x$ in das Koordinatensystem aus 1. Vergleichen Sie sie mit der \"geschätzten\" Geraden aus 1."
   ]
  },
  {
   "cell_type": "markdown",
   "metadata": {},
   "source": []
  }
 ],
 "metadata": {
  "language_info": {
   "name": "python"
  },
  "orig_nbformat": 4
 },
 "nbformat": 4,
 "nbformat_minor": 2
}
