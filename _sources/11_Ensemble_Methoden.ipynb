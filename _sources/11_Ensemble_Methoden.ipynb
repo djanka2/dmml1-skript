{
 "cells": [
  {
   "cell_type": "markdown",
   "id": "35a396e4",
   "metadata": {},
   "source": [
    "# Ensemble Methoden"
   ]
  }
 ],
 "metadata": {
  "jupytext": {
   "formats": "md:myst",
   "text_representation": {
    "extension": ".md",
    "format_name": "myst"
   }
  },
  "kernelspec": {
   "display_name": "Python 3",
   "language": "python",
   "name": "python3"
  },
  "source_map": [
   11
  ]
 },
 "nbformat": 4,
 "nbformat_minor": 5
}