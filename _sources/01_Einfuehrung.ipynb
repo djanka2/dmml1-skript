{
 "cells": [
  {
   "cell_type": "markdown",
   "id": "62fa04bc",
   "metadata": {},
   "source": [
    "# Einführung\n",
    "[Folien in ILIAS](https://ilias.h-ka.de/goto.php?target=file_726282_download&client_id=HSKA)"
   ]
  }
 ],
 "metadata": {
  "jupytext": {
   "formats": "md:myst",
   "text_representation": {
    "extension": ".md",
    "format_name": "myst"
   }
  },
  "kernelspec": {
   "display_name": "Python 3",
   "language": "python",
   "name": "python3"
  },
  "source_map": [
   11
  ]
 },
 "nbformat": 4,
 "nbformat_minor": 5
}