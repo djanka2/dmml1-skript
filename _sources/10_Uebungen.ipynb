{
 "cells": [
  {
   "cell_type": "markdown",
   "metadata": {},
   "source": [
    "# Übungen\n",
    "\n",
    "## ✏ Aufgabe 1\n",
    "Gegeben sind folgende Daten über Autoverkäufe:\n",
    "| Farbe | Schaltung | Preis | Noch verfügbar |\n",
    "|-------|-----------|-------|----------------|\n",
    "|    grün |\tmanuell |\t5000|\tnein|\n",
    "|    blau |\tautomatisch|\t11000\t|ja|\n",
    "|    rot | manuell\t|2000\t|nein|\n",
    "|    grün |\tmanuell\t|3000\t|ja|\n",
    "|    grün |\tautomatisch\t|6000|\tnein|\n",
    "|    blau |\tautomatisch\t|9000\t|ja|\n",
    "|    rot\t| automatisch\t|2500\t|nein|\n",
    "|    grün |\tmanuell\t|3000\t|ja|\n",
    "|    blau |\tautomatisch\t|4000|\tja|\t\n",
    "\n",
    " Basierend auf den Features Farbe, Getriebeart und Preis soll vorhergesagt werden, ob das Auto noch zum Verkauf steht. Bearbeiten Sie die folgenden Aufgaben:\n",
    "1. Berechnen Sie die Entropie für einen Split auf das Feature Schaltung.\n",
    "2. Berechnen Sie die Entropie für einen Split auf das Feature Farbe.\n",
    "3. Berechnen Sie die Entropie für einen Split auf das Feature Preis, wenn der Wertebereich in 3 äquidistante Teile unterteilt wird.\n",
    "4. Gegeben die Resultate der vorherigen Aufgaben: Welches Feature wird als erstes in einem Entscheidungsbaum verwendet und was ist die Bedingung im Wurzelknoten des Baumes?\n",
    "5. Nehmen Sie an, dass die Maximaltiefe des Baumes bereits nach dem ersten Split erreicht wurde. Was sind Vorhersagen (Klassen und Wahrscheinlichkeiten) für die resultierenden Blattknoten?"
   ]
  },
  {
   "cell_type": "markdown",
   "metadata": {},
   "source": [
    "## ✏ Aufgabe 2\n",
    "Gegeben ist ein Trainingsdatensatz mit zwei Features $x_1$ und $x_2$. Jede Instanz ist entweder Mitglied der Klasse $v$ oder der Klasse $o$. Die einzelnen Instanzen sind (jede Beobachtung ist entsprechend ihrer Klasse durch den Buchstaben $v$ oder $o$ dargestellt):\n",
    "\n",
    "![](./bilder/decision_tree.png)\n",
    "\n",
    "Geben Sie einen Entscheidungsbaum an, der für jede Instanz auf Basis der Features $x_1$ und $x_2$ die\n",
    "Klassenzugehörigkeit zu Klasse $v$ bzw. Klasse $o$ optimal entscheidet.\n"
   ]
  }
 ],
 "metadata": {
  "language_info": {
   "name": "python"
  },
  "orig_nbformat": 4
 },
 "nbformat": 4,
 "nbformat_minor": 2
}
