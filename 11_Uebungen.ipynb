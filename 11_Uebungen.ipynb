{
 "cells": [
  {
   "cell_type": "markdown",
   "id": "b987d62c-b6e3-484d-8afd-1db93db4d43f",
   "metadata": {},
   "source": [
    "# Übungen\n",
    "\n",
    "## ✏ Aufgabe 1\n",
    "Führen Sie für die Matrix $A=\\begin{pmatrix}1 & 2 & 3\\\\4 & 5 & 6\\end{pmatrix}$ folgende Schritte durch (mit NumPy):\n",
    "1. Berechnen Sie $A^TA$ und $AA^T$.\n",
    "2. Berechnen Sie die Eigenwerte und Eigenvektoren von $A^TA$ und $AA^T$ (siehe https://numpy.org/doc/stable/reference/generated/numpy.linalg.eig.html)\n",
    "3. Um sicherzugehen, dass Sie die Ergebnisse richtig interpretieren, berechnen Sie aus den Eigenwerten und Eigenvektoren wieder die Matrizen $A^TA$ und $AA^T$.\n",
    "\n",
    "\n",
    "Hinweis: Schauen Sie in die NumPy Dokumentation und machen Sie sich klar, welche Rückgabewerte die Funktion hat (bzw. welche Dimensionen die verschiedenen Matrizen haben). Vergleichen Sie die Angaben in der NumPy Dokumentation mit den Vorlesungsfolien bzw. -skript zum Thema Eigenwertzerlegung und machen Sie sich klar, welche mathematischen Objekte gemeint sind."
   ]
  },
  {
   "cell_type": "code",
   "execution_count": null,
   "id": "4b6c13d5-4639-42e2-87f7-3627664419ad",
   "metadata": {},
   "outputs": [],
   "source": [
    "# TO DO"
   ]
  },
  {
   "cell_type": "markdown",
   "id": "d9436c0a-ab59-4b8f-8fbe-c09df2fb0078",
   "metadata": {},
   "source": [
    "## ✏ Aufgabe 2\n",
    "1. Berechnen Sie die Singulärwertzerlegung (SVD) von $A$ (siehe https://numpy.org/doc/stable/reference/generated/numpy.linalg.svd.html)\n",
    "2. Um sicherzugehen, dass Sie die Ergebnisse richtig interpretieren, berechnen Sie aus den Singulärwerten sowie den Matrizen $U$ und $V^T$ wieder die Matrix $A$.\n",
    "3. Vergleichen Sie das Ergebnis mit dem Ergebnis von Aufgabe 1: Erhalten Sie mit beiden Verfahren (Eigenwertzerlegung und SVD) die gleichen Matrizen $U$ und $V^T$? Überlegen Sie zunächst (siehe Vorlesungsfolien!), was die Matrizen $U$ und $V^T$ aus der SVD mit den Eigenvektoren von $A^TA$ bzw. $AA^T$ zu tun haben.\n",
    "\n",
    "(Anmerkung: eine unitäre Matrix $U$ ist die Entsprechung einer orthogonalen Matrix in den komplexen Zahlen $\\mathbb{C}$, also eine Matrix über den komplexen Zahlen mit der Eigenschaft $U^*U=I$)."
   ]
  },
  {
   "cell_type": "code",
   "execution_count": null,
   "id": "df056826-d057-423a-8dfc-cf6fe18499a1",
   "metadata": {},
   "outputs": [],
   "source": [
    "# TO DO"
   ]
  },
  {
   "cell_type": "markdown",
   "id": "25c76c67-00de-4b57-944b-7ef053d333a0",
   "metadata": {
    "tags": []
   },
   "source": [
    "## ✏ Aufgabe 3\n",
    "Approximieren sie ein Bild mit verschiedenen Rang $k$ Approximationen. Gehen Sie dazu wie folgt vor:\n",
    "\n",
    "1. Öffnen Sie die Anaconda Konsole und installieren Sie opencv mittels: `pip install opencv-python`. Danach können Sie sich mit dem Code in der nächsten Zelle ein Bild als (Graustufen) Matrix entweder von einer URL oder einer lokalen Datei einlesen und anzeigen lassen."
   ]
  },
  {
   "cell_type": "code",
   "execution_count": null,
   "id": "59ecacb8-6c19-4437-8bb1-162cb03834aa",
   "metadata": {},
   "outputs": [],
   "source": [
    "import matplotlib.pyplot as plt\n",
    "import urllib.request\n",
    "import cv2\n",
    "import numpy as np\n",
    "\n",
    "# Bild von URL einlesen\n",
    "req = urllib.request.urlopen('https://upload.wikimedia.org/wikipedia/commons/f/f0/Mensa_Moltke%2C_Karlsruhe_IMGP4222.jpg')\n",
    "arr = np.asarray(bytearray(req.read()), dtype=np.uint8)\n",
    "\n",
    "# Bild als Matrix (Graustufen) einlesen\n",
    "B = cv2.imdecode(arr, cv2.IMREAD_GRAYSCALE) # 'Load it as it is'\n",
    "\n",
    "# Falls ein lokal gespeichertes Bild eingelesen werden soll:\n",
    "#B = cv2.imread('localfilename', cv2.IMREAD_GRAYSCALE)\n",
    "\n",
    "# Bild (Matrix) anzeigen\n",
    "plt.imshow(B, cmap = \"gray\")"
   ]
  },
  {
   "cell_type": "markdown",
   "id": "55b17719-85f6-4c51-87f9-43bb336d917f",
   "metadata": {},
   "source": [
    "2. Berechnen Sie die SVD der Bildmatrix.\n",
    "3. Lassen Sie sich zunächst einige der Rang 1 Matrizen, deren Summe das gesamte Bild ergibt, anzeigen. Sie müssen dazu Spalten von $U$ und Zeilen von $V^T$ extrahieren. Erinnerung: Um die Rang 1 Matrix zum $i$-ten Singulärwert zu bilden, müssen sie $\\sigma_iA_i=\\sigma_i u_i v_i^T$ berechnen (Matrixprodukt (bzw. äußeres Produkt mittels `np.outer(u,v)`) der $i$-ten Spalte von $U$ und $i$-ten Zeile von $V^T$.\n",
    "4. Berechnen Sie $\\tilde{A}(k)=\\sum_{i=1}^k \\sigma_iA_i$ für $k\\in\\{1,2,4,8,16,32,64,128\\}$ und lassen Sie sich die Matrizen als Bilder anzeigen."
   ]
  },
  {
   "cell_type": "code",
   "execution_count": null,
   "id": "e85d5500-829e-4cda-ba6e-08b6f155bcb8",
   "metadata": {},
   "outputs": [],
   "source": []
  }
 ],
 "metadata": {
  "kernelspec": {
   "display_name": "Python 3 (ipykernel)",
   "language": "python",
   "name": "python3"
  },
  "language_info": {
   "codemirror_mode": {
    "name": "ipython",
    "version": 3
   },
   "file_extension": ".py",
   "mimetype": "text/x-python",
   "name": "python",
   "nbconvert_exporter": "python",
   "pygments_lexer": "ipython3",
   "version": "3.9.6"
  }
 },
 "nbformat": 4,
 "nbformat_minor": 5
}
