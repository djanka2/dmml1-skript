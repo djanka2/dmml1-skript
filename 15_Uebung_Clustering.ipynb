{
 "cells": [
  {
   "cell_type": "markdown",
   "id": "3c27479b-5f93-42a7-8016-c9e25cb1c70f",
   "metadata": {},
   "source": [
    "# Praxisübung Clustering\n",
    "\n",
    "## ✏ Aufgabe 1"
   ]
  },
  {
   "cell_type": "markdown",
   "id": "2dd97a17-0630-48e2-ad1f-9c7dc221a5b4",
   "metadata": {},
   "source": [
    "Verifizieren Sie die Aufgaben 1-4 vom aus der [Übung](15_Uebungen.ipynb) mit `scikit-learn`. Sie finden die Algorithmen unter https://scikit-learn.org/stable/modules/classes.html#module-sklearn.cluster, entweder als gewohnte `Estimator` Klasse mit `fit` und `predict`-Methode, oder, im Falle von k-Means und DBSCAN, auch als Convenience-Funktion (dann hat man noch weniger Code zu schreiben). Den Silhoutenkoeffizienten finden Sie unter https://scikit-learn.org/stable/modules/generated/sklearn.metrics.silhouette_samples.html.\n",
    "\n",
    "### Datensatz"
   ]
  },
  {
   "cell_type": "code",
   "execution_count": null,
   "id": "54694f76-1771-42ab-97ca-2453817f1334",
   "metadata": {},
   "outputs": [],
   "source": [
    "import numpy as np\n",
    "import pandas as pd\n",
    "import plotly.express as px\n",
    "\n",
    "X = np.array([[2,8],[2,5],[1,2],[5,8],[7,3],[6,4],[8,4],[4,7]])\n",
    "X = pd.DataFrame({\"x\": X[:,0], \"y\": X[:,1]})\n",
    "X.index = range(1,9)\n",
    "X"
   ]
  },
  {
   "cell_type": "code",
   "execution_count": null,
   "id": "3d2ec2d7-127c-4ac0-949f-e6446ed2da6a",
   "metadata": {},
   "outputs": [],
   "source": [
    "px.scatter(x=X.x, y=X.y, width=600, height=600)"
   ]
  },
  {
   "cell_type": "markdown",
   "id": "6fe05ba5-1a3c-4ff9-9587-2e7eea31b49e",
   "metadata": {},
   "source": [
    "### Distanzmatrix\n",
    "(Wird für die Aufgabe nicht benötigt, aber nice to know.)"
   ]
  },
  {
   "cell_type": "code",
   "execution_count": null,
   "id": "e6b01223-5c5b-4161-b32e-b94ac728453e",
   "metadata": {},
   "outputs": [],
   "source": [
    "from scipy.spatial import distance_matrix\n",
    "\n",
    "dist = pd.DataFrame(distance_matrix(X, X))\n",
    "dist.index = range(1,9)\n",
    "dist.columns = range(1,9)\n",
    "dist"
   ]
  },
  {
   "cell_type": "markdown",
   "id": "95a22175-8640-48c8-9247-0808bd3c9eb8",
   "metadata": {},
   "source": [
    "### Die verschiedenen Cluster-Algorithmen vom Übungsblatt und der Silhouettenkoeffizient"
   ]
  },
  {
   "cell_type": "code",
   "execution_count": null,
   "id": "34fc4c9f-9410-48cf-a6cc-017c395d70ed",
   "metadata": {},
   "outputs": [],
   "source": [
    "# TO DO"
   ]
  },
  {
   "cell_type": "markdown",
   "id": "1dc613f0-61be-4587-86e0-aae054f701a4",
   "metadata": {
    "tags": []
   },
   "source": [
    "## Aufgabe 2: Clustering für den MovieLens Datensatz"
   ]
  },
  {
   "cell_type": "markdown",
   "id": "1e307048-c3c4-43ec-93c5-2c629e88f553",
   "metadata": {},
   "source": [
    "In dieser Aufgabe sollen Sie auf dem MovieLens Datensatz Cluster von Benutzern, basierend auf ihrer Bewertung von Filmen berechnen. Dafür lesen wir zunächst den MovieLens Datensatz ein. Wir beschränken uns dabei auf die 100 Filme mit den meisten Bewertungen. So kann man die Cluster hinterher einfacher visualisieren. Weiter unten geht's zu den Aufgaben."
   ]
  },
  {
   "cell_type": "code",
   "execution_count": null,
   "id": "28e7ee94-8086-4d8a-b20e-17bc83a6936c",
   "metadata": {},
   "outputs": [],
   "source": [
    "# Einlesen und der Daten und join der Filmtitel\n",
    "df = pd.read_csv(\"Daten/ml-100k/u.data\", sep=\"\\t\", header=None)\n",
    "df_items = pd.read_csv(\"Daten/ml-100k/u.item\", sep=\"|\", header=None, encoding_errors=\"ignore\")\n",
    "\n",
    "df.columns = [\"user_id\", \"item_id\", \"rating\", \"timestamp\"]\n",
    "df_items.columns = [\"movie id\", \"movie title\", \"release date\", \"video release date\", \"IMDb URL\", \"unknown\", \"Action\", \"Adventure\", \"Animation\", \n",
    "                    \"Children's\", \"Comedy\", \"Crime\", \"Documentary\", \"Drama\", \"Fantasy\", \"Film-Noir\", \"Horror\", \"Musical\",\n",
    "                    \"Mystery\", \"Romance\", \"Sci-Fi\", \"Thriller\", \"War\", \"Western\"]\n",
    "df = df.merge(df_items[[\"movie id\", \"movie title\"]], left_on=\"item_id\", right_on=\"movie id\")\n",
    "\n",
    "# Die 100 Filme mit den meisten Bewertungen\n",
    "popular_movies = df[\"movie title\"].value_counts().head(100)"
   ]
  },
  {
   "cell_type": "code",
   "execution_count": null,
   "id": "6d97d904-caf3-4289-a50c-3991769aee3a",
   "metadata": {},
   "outputs": [],
   "source": [
    "# Aufbau der user-item-matrix (siehe vorherige Übung). \n",
    "from scipy.sparse import coo_matrix\n",
    "\n",
    "n_rows = len(df.user_id.unique())\n",
    "n_cols = len(df.item_id.unique())\n",
    "\n",
    "row = df[\"user_id\"] - 1\n",
    "col = df[\"item_id\"] - 1\n",
    "data = df[\"rating\"]\n",
    "user_item_matrix_s = coo_matrix((data, (row, col)), shape=(n_rows, n_cols))\n",
    "user_item_matrix = user_item_matrix_s.toarray()\n",
    "user_item_matrix = pd.DataFrame(user_item_matrix)\n",
    "user_item_matrix.columns = df_items[\"movie title\"]\n",
    "user_item_matrix_100 = user_item_matrix[popular_movies.index]\n",
    "user_item_matrix_100"
   ]
  },
  {
   "cell_type": "markdown",
   "id": "7134383a-4eaf-40b6-ad14-5e71a6ff0ad6",
   "metadata": {},
   "source": [
    "### Bearbeiten Sie folgende Aufgaben\n",
    "1. Berechnen Sie ein KMeans Clustering auf der `user_item_matrix_100`. Visualisieren Sie die Cluster als Heatmap, z.B. mit der Plotly Funktion `px.imshow`, siehe https://plotly.com/python/heatmaps/. Experimentieren Sie mit verschiedenen Werten für `n_clusters`. Können Sie (durch visuelle Inspektion a.k.a. draufschauen) einzelne Cluster charakterisieren bzw. in Worten beschreiben, aus welchen Nutzern dieser Cluster besteht (dies wird nicht bei jedem Cluster funktionieren)?\n",
    "2. Wiederholen Sie die Aufgabe mit `DBSCAN` und `AgglomerativeClustering`. "
   ]
  },
  {
   "cell_type": "code",
   "execution_count": null,
   "id": "38438e86-77af-46cd-bdc7-ac514b9e9024",
   "metadata": {},
   "outputs": [],
   "source": [
    "# TO DO"
   ]
  },
  {
   "cell_type": "code",
   "execution_count": null,
   "id": "0cbbcdbc-fa76-4a3e-aa8f-fd64cc9945b2",
   "metadata": {},
   "outputs": [],
   "source": []
  }
 ],
 "metadata": {
  "kernelspec": {
   "display_name": "Python 3 (ipykernel)",
   "language": "python",
   "name": "python3"
  },
  "language_info": {
   "codemirror_mode": {
    "name": "ipython",
    "version": 3
   },
   "file_extension": ".py",
   "mimetype": "text/x-python",
   "name": "python",
   "nbconvert_exporter": "python",
   "pygments_lexer": "ipython3",
   "version": "3.9.6"
  }
 },
 "nbformat": 4,
 "nbformat_minor": 5
}
